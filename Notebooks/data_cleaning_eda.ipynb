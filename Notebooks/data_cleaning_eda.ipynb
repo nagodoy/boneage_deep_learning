{
  "nbformat": 4,
  "nbformat_minor": 0,
  "metadata": {
    "colab": {
      "name": "data_cleaning_eda.ipynb",
      "provenance": [],
      "collapsed_sections": [
        "78Ul86DDmAtk",
        "GKNQCeaMQExa",
        "AypOUnesum5k"
      ],
      "toc_visible": true
    },
    "kernelspec": {
      "name": "python3",
      "display_name": "Python 3"
    }
  },
  "cells": [
    {
      "cell_type": "markdown",
      "metadata": {
        "id": "GYh41LwEQAi0"
      },
      "source": [
        "## Downloading Data (kaggle)"
      ]
    },
    {
      "cell_type": "code",
      "metadata": {
        "id": "IYSqAnBve5q-"
      },
      "source": [
        "from google.colab import files\n",
        "files.upload()"
      ],
      "execution_count": null,
      "outputs": []
    },
    {
      "cell_type": "code",
      "metadata": {
        "id": "d2puVsLve9-u"
      },
      "source": [
        "!ls -lha kaggle.json"
      ],
      "execution_count": null,
      "outputs": []
    },
    {
      "cell_type": "code",
      "metadata": {
        "id": "tzzLlFk4hLoz"
      },
      "source": [
        "!pip install -q kaggle"
      ],
      "execution_count": null,
      "outputs": []
    },
    {
      "cell_type": "code",
      "metadata": {
        "id": "GnighMT7fLqA"
      },
      "source": [
        "# The Kaggle API client expects this file to be in ~/.kaggle so move it there\n",
        "!mkdir -p ~/.kaggle\n",
        "!cp kaggle.json ~/.kaggle/\n",
        "\n",
        "# This permissions change avoids a warning on Kaggle tool startup.\n",
        "!chmod 600 ~/.kaggle/kaggle.json"
      ],
      "execution_count": null,
      "outputs": []
    },
    {
      "cell_type": "code",
      "metadata": {
        "id": "UskaUpZThTeF"
      },
      "source": [
        "!kaggle datasets download -d kmader/rsna-bone-age"
      ],
      "execution_count": null,
      "outputs": []
    },
    {
      "cell_type": "code",
      "metadata": {
        "id": "nIZKr2nZhpOI"
      },
      "source": [
        "!unzip rsna-bone-age.zip"
      ],
      "execution_count": null,
      "outputs": []
    },
    {
      "cell_type": "markdown",
      "metadata": {
        "id": "78Ul86DDmAtk"
      },
      "source": [
        "## Downloading Data (Google Drive)"
      ]
    },
    {
      "cell_type": "code",
      "metadata": {
        "id": "Do3G08NXNY7E"
      },
      "source": [
        "# Unzip training set file\n",
        "!unzip /content/drive/MyDrive/boneage_images/boneage_training_set.zip"
      ],
      "execution_count": null,
      "outputs": []
    },
    {
      "cell_type": "markdown",
      "metadata": {
        "id": "GKNQCeaMQExa"
      },
      "source": [
        "# Metadata Preparation, Preliminary EDA"
      ]
    },
    {
      "cell_type": "code",
      "metadata": {
        "id": "7G1f17IMjPFu"
      },
      "source": [
        "import numpy as np\n",
        "import pandas as pd\n",
        "import datetime\n",
        "import os\n",
        "import math\n",
        "import matplotlib.pyplot as plt\n",
        "import seaborn as sns\n",
        "sns.set_style(\"white\")\n",
        "from sklearn.model_selection import train_test_split\n",
        "\n",
        "from IPython.core.interactiveshell import InteractiveShell\n",
        "InteractiveShell.ast_node_interactivity = \"all\""
      ],
      "execution_count": 1,
      "outputs": []
    },
    {
      "cell_type": "code",
      "metadata": {
        "id": "ngTOYlnej4U5",
        "colab": {
          "base_uri": "https://localhost:8080/",
          "height": 391
        },
        "outputId": "e3602cc4-bae8-4680-a3ef-8b912c9ed633"
      },
      "source": [
        "df_train = pd.read_csv('train.csv')\n",
        "df_val = pd.read_csv('val.csv')\n",
        "\n",
        "df_train.head()\n",
        "df_val.head()"
      ],
      "execution_count": 2,
      "outputs": [
        {
          "output_type": "execute_result",
          "data": {
            "text/html": [
              "<div>\n",
              "<style scoped>\n",
              "    .dataframe tbody tr th:only-of-type {\n",
              "        vertical-align: middle;\n",
              "    }\n",
              "\n",
              "    .dataframe tbody tr th {\n",
              "        vertical-align: top;\n",
              "    }\n",
              "\n",
              "    .dataframe thead th {\n",
              "        text-align: right;\n",
              "    }\n",
              "</style>\n",
              "<table border=\"1\" class=\"dataframe\">\n",
              "  <thead>\n",
              "    <tr style=\"text-align: right;\">\n",
              "      <th></th>\n",
              "      <th>id</th>\n",
              "      <th>boneage</th>\n",
              "      <th>male</th>\n",
              "    </tr>\n",
              "  </thead>\n",
              "  <tbody>\n",
              "    <tr>\n",
              "      <th>0</th>\n",
              "      <td>1377</td>\n",
              "      <td>180</td>\n",
              "      <td>False</td>\n",
              "    </tr>\n",
              "    <tr>\n",
              "      <th>1</th>\n",
              "      <td>1378</td>\n",
              "      <td>12</td>\n",
              "      <td>False</td>\n",
              "    </tr>\n",
              "    <tr>\n",
              "      <th>2</th>\n",
              "      <td>1379</td>\n",
              "      <td>94</td>\n",
              "      <td>False</td>\n",
              "    </tr>\n",
              "    <tr>\n",
              "      <th>3</th>\n",
              "      <td>1380</td>\n",
              "      <td>120</td>\n",
              "      <td>True</td>\n",
              "    </tr>\n",
              "    <tr>\n",
              "      <th>4</th>\n",
              "      <td>1381</td>\n",
              "      <td>82</td>\n",
              "      <td>False</td>\n",
              "    </tr>\n",
              "  </tbody>\n",
              "</table>\n",
              "</div>"
            ],
            "text/plain": [
              "     id  boneage   male\n",
              "0  1377      180  False\n",
              "1  1378       12  False\n",
              "2  1379       94  False\n",
              "3  1380      120   True\n",
              "4  1381       82  False"
            ]
          },
          "metadata": {
            "tags": []
          },
          "execution_count": 2
        },
        {
          "output_type": "execute_result",
          "data": {
            "text/html": [
              "<div>\n",
              "<style scoped>\n",
              "    .dataframe tbody tr th:only-of-type {\n",
              "        vertical-align: middle;\n",
              "    }\n",
              "\n",
              "    .dataframe tbody tr th {\n",
              "        vertical-align: top;\n",
              "    }\n",
              "\n",
              "    .dataframe thead th {\n",
              "        text-align: right;\n",
              "    }\n",
              "</style>\n",
              "<table border=\"1\" class=\"dataframe\">\n",
              "  <thead>\n",
              "    <tr style=\"text-align: right;\">\n",
              "      <th></th>\n",
              "      <th>Image ID</th>\n",
              "      <th>male</th>\n",
              "      <th>Bone Age (months)</th>\n",
              "    </tr>\n",
              "  </thead>\n",
              "  <tbody>\n",
              "    <tr>\n",
              "      <th>0</th>\n",
              "      <td>1386</td>\n",
              "      <td>False</td>\n",
              "      <td>30</td>\n",
              "    </tr>\n",
              "    <tr>\n",
              "      <th>1</th>\n",
              "      <td>1392</td>\n",
              "      <td>True</td>\n",
              "      <td>162</td>\n",
              "    </tr>\n",
              "    <tr>\n",
              "      <th>2</th>\n",
              "      <td>1397</td>\n",
              "      <td>False</td>\n",
              "      <td>18</td>\n",
              "    </tr>\n",
              "    <tr>\n",
              "      <th>3</th>\n",
              "      <td>1401</td>\n",
              "      <td>False</td>\n",
              "      <td>132</td>\n",
              "    </tr>\n",
              "    <tr>\n",
              "      <th>4</th>\n",
              "      <td>1410</td>\n",
              "      <td>True</td>\n",
              "      <td>57</td>\n",
              "    </tr>\n",
              "  </tbody>\n",
              "</table>\n",
              "</div>"
            ],
            "text/plain": [
              "   Image ID   male  Bone Age (months)\n",
              "0      1386  False                 30\n",
              "1      1392   True                162\n",
              "2      1397  False                 18\n",
              "3      1401  False                132\n",
              "4      1410   True                 57"
            ]
          },
          "metadata": {
            "tags": []
          },
          "execution_count": 2
        }
      ]
    },
    {
      "cell_type": "code",
      "metadata": {
        "id": "w5tByAQWfIhB",
        "colab": {
          "base_uri": "https://localhost:8080/",
          "height": 204
        },
        "outputId": "8db1d0a8-9e15-48c4-ef27-8d49bee3db51"
      },
      "source": [
        "# Clean train dataframe\n",
        "df_train['filename'] = df_train['id'].apply(lambda x: str(x) + '.png')\n",
        "df_train['gender'] = df_train['male'].apply(lambda x: 'male' if x else 'female')\n",
        "df_train.drop(columns='male', inplace=True)\n",
        "df_train.head()"
      ],
      "execution_count": 3,
      "outputs": [
        {
          "output_type": "execute_result",
          "data": {
            "text/html": [
              "<div>\n",
              "<style scoped>\n",
              "    .dataframe tbody tr th:only-of-type {\n",
              "        vertical-align: middle;\n",
              "    }\n",
              "\n",
              "    .dataframe tbody tr th {\n",
              "        vertical-align: top;\n",
              "    }\n",
              "\n",
              "    .dataframe thead th {\n",
              "        text-align: right;\n",
              "    }\n",
              "</style>\n",
              "<table border=\"1\" class=\"dataframe\">\n",
              "  <thead>\n",
              "    <tr style=\"text-align: right;\">\n",
              "      <th></th>\n",
              "      <th>id</th>\n",
              "      <th>boneage</th>\n",
              "      <th>filename</th>\n",
              "      <th>gender</th>\n",
              "    </tr>\n",
              "  </thead>\n",
              "  <tbody>\n",
              "    <tr>\n",
              "      <th>0</th>\n",
              "      <td>1377</td>\n",
              "      <td>180</td>\n",
              "      <td>1377.png</td>\n",
              "      <td>female</td>\n",
              "    </tr>\n",
              "    <tr>\n",
              "      <th>1</th>\n",
              "      <td>1378</td>\n",
              "      <td>12</td>\n",
              "      <td>1378.png</td>\n",
              "      <td>female</td>\n",
              "    </tr>\n",
              "    <tr>\n",
              "      <th>2</th>\n",
              "      <td>1379</td>\n",
              "      <td>94</td>\n",
              "      <td>1379.png</td>\n",
              "      <td>female</td>\n",
              "    </tr>\n",
              "    <tr>\n",
              "      <th>3</th>\n",
              "      <td>1380</td>\n",
              "      <td>120</td>\n",
              "      <td>1380.png</td>\n",
              "      <td>male</td>\n",
              "    </tr>\n",
              "    <tr>\n",
              "      <th>4</th>\n",
              "      <td>1381</td>\n",
              "      <td>82</td>\n",
              "      <td>1381.png</td>\n",
              "      <td>female</td>\n",
              "    </tr>\n",
              "  </tbody>\n",
              "</table>\n",
              "</div>"
            ],
            "text/plain": [
              "     id  boneage  filename  gender\n",
              "0  1377      180  1377.png  female\n",
              "1  1378       12  1378.png  female\n",
              "2  1379       94  1379.png  female\n",
              "3  1380      120  1380.png    male\n",
              "4  1381       82  1381.png  female"
            ]
          },
          "metadata": {
            "tags": []
          },
          "execution_count": 3
        }
      ]
    },
    {
      "cell_type": "code",
      "metadata": {
        "id": "9uR0q9mnQ5Bx",
        "colab": {
          "base_uri": "https://localhost:8080/",
          "height": 204
        },
        "outputId": "911b3641-677b-4765-fe19-f8837010af3a"
      },
      "source": [
        "# Clean validation dataframe\n",
        "df_val['filename'] = df_val['Image ID'].apply(lambda x: str(x) + '.png')\n",
        "df_val['gender'] = df_val['male'].apply(lambda x: 'male' if x else 'female')\n",
        "df_val.rename(columns={'Image ID': 'id', 'Bone Age (months)': 'boneage'}, inplace=True)\n",
        "df_val.drop(columns='male', inplace=True)\n",
        "df_val.head()"
      ],
      "execution_count": 4,
      "outputs": [
        {
          "output_type": "execute_result",
          "data": {
            "text/html": [
              "<div>\n",
              "<style scoped>\n",
              "    .dataframe tbody tr th:only-of-type {\n",
              "        vertical-align: middle;\n",
              "    }\n",
              "\n",
              "    .dataframe tbody tr th {\n",
              "        vertical-align: top;\n",
              "    }\n",
              "\n",
              "    .dataframe thead th {\n",
              "        text-align: right;\n",
              "    }\n",
              "</style>\n",
              "<table border=\"1\" class=\"dataframe\">\n",
              "  <thead>\n",
              "    <tr style=\"text-align: right;\">\n",
              "      <th></th>\n",
              "      <th>id</th>\n",
              "      <th>boneage</th>\n",
              "      <th>filename</th>\n",
              "      <th>gender</th>\n",
              "    </tr>\n",
              "  </thead>\n",
              "  <tbody>\n",
              "    <tr>\n",
              "      <th>0</th>\n",
              "      <td>1386</td>\n",
              "      <td>30</td>\n",
              "      <td>1386.png</td>\n",
              "      <td>female</td>\n",
              "    </tr>\n",
              "    <tr>\n",
              "      <th>1</th>\n",
              "      <td>1392</td>\n",
              "      <td>162</td>\n",
              "      <td>1392.png</td>\n",
              "      <td>male</td>\n",
              "    </tr>\n",
              "    <tr>\n",
              "      <th>2</th>\n",
              "      <td>1397</td>\n",
              "      <td>18</td>\n",
              "      <td>1397.png</td>\n",
              "      <td>female</td>\n",
              "    </tr>\n",
              "    <tr>\n",
              "      <th>3</th>\n",
              "      <td>1401</td>\n",
              "      <td>132</td>\n",
              "      <td>1401.png</td>\n",
              "      <td>female</td>\n",
              "    </tr>\n",
              "    <tr>\n",
              "      <th>4</th>\n",
              "      <td>1410</td>\n",
              "      <td>57</td>\n",
              "      <td>1410.png</td>\n",
              "      <td>male</td>\n",
              "    </tr>\n",
              "  </tbody>\n",
              "</table>\n",
              "</div>"
            ],
            "text/plain": [
              "     id  boneage  filename  gender\n",
              "0  1386       30  1386.png  female\n",
              "1  1392      162  1392.png    male\n",
              "2  1397       18  1397.png  female\n",
              "3  1401      132  1401.png  female\n",
              "4  1410       57  1410.png    male"
            ]
          },
          "metadata": {
            "tags": []
          },
          "execution_count": 4
        }
      ]
    },
    {
      "cell_type": "code",
      "metadata": {
        "id": "JiLuc_urmyX2",
        "colab": {
          "base_uri": "https://localhost:8080/"
        },
        "outputId": "b417eb2d-434f-4fce-8bba-e1d1b90ba8bc"
      },
      "source": [
        "# Explore datasets\n",
        "df_train.info()\n",
        "df_val.info()"
      ],
      "execution_count": 5,
      "outputs": [
        {
          "output_type": "stream",
          "text": [
            "<class 'pandas.core.frame.DataFrame'>\n",
            "RangeIndex: 12611 entries, 0 to 12610\n",
            "Data columns (total 4 columns):\n",
            " #   Column    Non-Null Count  Dtype \n",
            "---  ------    --------------  ----- \n",
            " 0   id        12611 non-null  int64 \n",
            " 1   boneage   12611 non-null  int64 \n",
            " 2   filename  12611 non-null  object\n",
            " 3   gender    12611 non-null  object\n",
            "dtypes: int64(2), object(2)\n",
            "memory usage: 394.2+ KB\n",
            "<class 'pandas.core.frame.DataFrame'>\n",
            "RangeIndex: 1425 entries, 0 to 1424\n",
            "Data columns (total 4 columns):\n",
            " #   Column    Non-Null Count  Dtype \n",
            "---  ------    --------------  ----- \n",
            " 0   id        1425 non-null   int64 \n",
            " 1   boneage   1425 non-null   int64 \n",
            " 2   filename  1425 non-null   object\n",
            " 3   gender    1425 non-null   object\n",
            "dtypes: int64(2), object(2)\n",
            "memory usage: 44.7+ KB\n"
          ],
          "name": "stdout"
        }
      ]
    },
    {
      "cell_type": "code",
      "metadata": {
        "id": "79p22IT2tG39",
        "colab": {
          "base_uri": "https://localhost:8080/"
        },
        "outputId": "8157afec-b659-417c-f6d1-6f4d69a9f1ac"
      },
      "source": [
        "# Explore variables\n",
        "df_train['boneage'].describe()"
      ],
      "execution_count": 6,
      "outputs": [
        {
          "output_type": "execute_result",
          "data": {
            "text/plain": [
              "count    12611.000000\n",
              "mean       127.320752\n",
              "std         41.182021\n",
              "min          1.000000\n",
              "25%         96.000000\n",
              "50%        132.000000\n",
              "75%        156.000000\n",
              "max        228.000000\n",
              "Name: boneage, dtype: float64"
            ]
          },
          "metadata": {
            "tags": []
          },
          "execution_count": 6
        }
      ]
    },
    {
      "cell_type": "code",
      "metadata": {
        "id": "MBpvssRNlkBn",
        "colab": {
          "base_uri": "https://localhost:8080/",
          "height": 265
        },
        "outputId": "12c8e35a-183b-4a0f-8a83-532883a165db"
      },
      "source": [
        "# Look at distribution of bone ages in training set\n",
        "df_train['boneage'].hist(bins=10);"
      ],
      "execution_count": 7,
      "outputs": [
        {
          "output_type": "display_data",
          "data": {
            "image/png": "[encoded data removed]",
            "text/plain": [
              "<Figure size 432x288 with 1 Axes>"
            ]
          },
          "metadata": {
            "tags": [],
            "needs_background": "light"
          }
        }
      ]
    },
    {
      "cell_type": "code",
      "metadata": {
        "id": "VE1FAWmZf7iy",
        "colab": {
          "base_uri": "https://localhost:8080/",
          "height": 265
        },
        "outputId": "11c310ce-b282-4051-a814-a75681dd050f"
      },
      "source": [
        "# Look at distribution of bone ages in validation set\n",
        "df_val['boneage'].hist(bins=10);"
      ],
      "execution_count": 8,
      "outputs": [
        {
          "output_type": "display_data",
          "data": {
            "image/png": "[encoded data removed]",
            "text/plain": [
              "<Figure size 432x288 with 1 Axes>"
            ]
          },
          "metadata": {
            "tags": [],
            "needs_background": "light"
          }
        }
      ]
    },
    {
      "cell_type": "markdown",
      "metadata": {
        "id": "J6FzHDHhgByx"
      },
      "source": [
        "The distributions are approximately normal though slightly left-skewed for both datasets. The distributions appear to be similar for both datasets."
      ]
    },
    {
      "cell_type": "code",
      "metadata": {
        "id": "A9RN4bbojuMj",
        "colab": {
          "base_uri": "https://localhost:8080/",
          "height": 391
        },
        "outputId": "10d5cbce-5d30-4b9f-84b0-af3c833ea4db"
      },
      "source": [
        "# Standardize bone ages\n",
        "boneage_mean = (df_train['boneage'].mean() + df_val['boneage'].mean()) / 2\n",
        "boneage_std = (df_train['boneage'].std() + df_val['boneage'].std()) / 2\n",
        "\n",
        "df_train['boneage_zscore'] = (df_train['boneage'] - boneage_mean)/boneage_std\n",
        "df_val['boneage_zscore'] = (df_val['boneage'] - boneage_mean)/boneage_std\n",
        "\n",
        "df_train.head()\n",
        "df_val.head()"
      ],
      "execution_count": 9,
      "outputs": [
        {
          "output_type": "execute_result",
          "data": {
            "text/html": [
              "<div>\n",
              "<style scoped>\n",
              "    .dataframe tbody tr th:only-of-type {\n",
              "        vertical-align: middle;\n",
              "    }\n",
              "\n",
              "    .dataframe tbody tr th {\n",
              "        vertical-align: top;\n",
              "    }\n",
              "\n",
              "    .dataframe thead th {\n",
              "        text-align: right;\n",
              "    }\n",
              "</style>\n",
              "<table border=\"1\" class=\"dataframe\">\n",
              "  <thead>\n",
              "    <tr style=\"text-align: right;\">\n",
              "      <th></th>\n",
              "      <th>id</th>\n",
              "      <th>boneage</th>\n",
              "      <th>filename</th>\n",
              "      <th>gender</th>\n",
              "      <th>boneage_zscore</th>\n",
              "    </tr>\n",
              "  </thead>\n",
              "  <tbody>\n",
              "    <tr>\n",
              "      <th>0</th>\n",
              "      <td>1377</td>\n",
              "      <td>180</td>\n",
              "      <td>1377.png</td>\n",
              "      <td>female</td>\n",
              "      <td>1.272830</td>\n",
              "    </tr>\n",
              "    <tr>\n",
              "      <th>1</th>\n",
              "      <td>1378</td>\n",
              "      <td>12</td>\n",
              "      <td>1378.png</td>\n",
              "      <td>female</td>\n",
              "      <td>-2.780049</td>\n",
              "    </tr>\n",
              "    <tr>\n",
              "      <th>2</th>\n",
              "      <td>1379</td>\n",
              "      <td>94</td>\n",
              "      <td>1379.png</td>\n",
              "      <td>female</td>\n",
              "      <td>-0.801858</td>\n",
              "    </tr>\n",
              "    <tr>\n",
              "      <th>3</th>\n",
              "      <td>1380</td>\n",
              "      <td>120</td>\n",
              "      <td>1380.png</td>\n",
              "      <td>male</td>\n",
              "      <td>-0.174627</td>\n",
              "    </tr>\n",
              "    <tr>\n",
              "      <th>4</th>\n",
              "      <td>1381</td>\n",
              "      <td>82</td>\n",
              "      <td>1381.png</td>\n",
              "      <td>female</td>\n",
              "      <td>-1.091349</td>\n",
              "    </tr>\n",
              "  </tbody>\n",
              "</table>\n",
              "</div>"
            ],
            "text/plain": [
              "     id  boneage  filename  gender  boneage_zscore\n",
              "0  1377      180  1377.png  female        1.272830\n",
              "1  1378       12  1378.png  female       -2.780049\n",
              "2  1379       94  1379.png  female       -0.801858\n",
              "3  1380      120  1380.png    male       -0.174627\n",
              "4  1381       82  1381.png  female       -1.091349"
            ]
          },
          "metadata": {
            "tags": []
          },
          "execution_count": 9
        },
        {
          "output_type": "execute_result",
          "data": {
            "text/html": [
              "<div>\n",
              "<style scoped>\n",
              "    .dataframe tbody tr th:only-of-type {\n",
              "        vertical-align: middle;\n",
              "    }\n",
              "\n",
              "    .dataframe tbody tr th {\n",
              "        vertical-align: top;\n",
              "    }\n",
              "\n",
              "    .dataframe thead th {\n",
              "        text-align: right;\n",
              "    }\n",
              "</style>\n",
              "<table border=\"1\" class=\"dataframe\">\n",
              "  <thead>\n",
              "    <tr style=\"text-align: right;\">\n",
              "      <th></th>\n",
              "      <th>id</th>\n",
              "      <th>boneage</th>\n",
              "      <th>filename</th>\n",
              "      <th>gender</th>\n",
              "      <th>boneage_zscore</th>\n",
              "    </tr>\n",
              "  </thead>\n",
              "  <tbody>\n",
              "    <tr>\n",
              "      <th>0</th>\n",
              "      <td>1386</td>\n",
              "      <td>30</td>\n",
              "      <td>1386.png</td>\n",
              "      <td>female</td>\n",
              "      <td>-2.345812</td>\n",
              "    </tr>\n",
              "    <tr>\n",
              "      <th>1</th>\n",
              "      <td>1392</td>\n",
              "      <td>162</td>\n",
              "      <td>1392.png</td>\n",
              "      <td>male</td>\n",
              "      <td>0.838593</td>\n",
              "    </tr>\n",
              "    <tr>\n",
              "      <th>2</th>\n",
              "      <td>1397</td>\n",
              "      <td>18</td>\n",
              "      <td>1397.png</td>\n",
              "      <td>female</td>\n",
              "      <td>-2.635303</td>\n",
              "    </tr>\n",
              "    <tr>\n",
              "      <th>3</th>\n",
              "      <td>1401</td>\n",
              "      <td>132</td>\n",
              "      <td>1401.png</td>\n",
              "      <td>female</td>\n",
              "      <td>0.114865</td>\n",
              "    </tr>\n",
              "    <tr>\n",
              "      <th>4</th>\n",
              "      <td>1410</td>\n",
              "      <td>57</td>\n",
              "      <td>1410.png</td>\n",
              "      <td>male</td>\n",
              "      <td>-1.694456</td>\n",
              "    </tr>\n",
              "  </tbody>\n",
              "</table>\n",
              "</div>"
            ],
            "text/plain": [
              "     id  boneage  filename  gender  boneage_zscore\n",
              "0  1386       30  1386.png  female       -2.345812\n",
              "1  1392      162  1392.png    male        0.838593\n",
              "2  1397       18  1397.png  female       -2.635303\n",
              "3  1401      132  1401.png  female        0.114865\n",
              "4  1410       57  1410.png    male       -1.694456"
            ]
          },
          "metadata": {
            "tags": []
          },
          "execution_count": 9
        }
      ]
    },
    {
      "cell_type": "code",
      "metadata": {
        "id": "kwF7Q6_FmYiu",
        "colab": {
          "base_uri": "https://localhost:8080/",
          "height": 265
        },
        "outputId": "a240d69f-53f5-414b-b2d9-fbffc9521d88"
      },
      "source": [
        "# Look at distribution of bone age z-scores for training set\n",
        "df_train['boneage_zscore'].hist(bins=10);"
      ],
      "execution_count": 10,
      "outputs": [
        {
          "output_type": "display_data",
          "data": {
            "image/png": "[encoded data removed]",
            "text/plain": [
              "<Figure size 432x288 with 1 Axes>"
            ]
          },
          "metadata": {
            "tags": [],
            "needs_background": "light"
          }
        }
      ]
    },
    {
      "cell_type": "code",
      "metadata": {
        "id": "sf-IHOLPgxFr",
        "colab": {
          "base_uri": "https://localhost:8080/",
          "height": 265
        },
        "outputId": "1621426d-2d31-4eb0-a33f-e58c2140c40b"
      },
      "source": [
        "# Look at distribution of bone age z-scores for validation set\n",
        "df_val['boneage_zscore'].hist(bins=10);"
      ],
      "execution_count": 11,
      "outputs": [
        {
          "output_type": "display_data",
          "data": {
            "image/png": "[encoded data removed]",
            "text/plain": [
              "<Figure size 432x288 with 1 Axes>"
            ]
          },
          "metadata": {
            "tags": [],
            "needs_background": "light"
          }
        }
      ]
    },
    {
      "cell_type": "code",
      "metadata": {
        "id": "X1RJjbQtleG4",
        "colab": {
          "base_uri": "https://localhost:8080/",
          "height": 333
        },
        "outputId": "55fb077a-0397-4b42-a4ae-97e3f4c679cb"
      },
      "source": [
        "# Look at distribution of genders: training set\n",
        "sns.countplot(df_train['gender']);"
      ],
      "execution_count": 12,
      "outputs": [
        {
          "output_type": "stream",
          "text": [
            "/usr/local/lib/python3.6/dist-packages/seaborn/_decorators.py:43: FutureWarning: Pass the following variable as a keyword arg: x. From version 0.12, the only valid positional argument will be `data`, and passing other arguments without an explicit keyword will result in an error or misinterpretation.\n",
            "  FutureWarning\n"
          ],
          "name": "stderr"
        },
        {
          "output_type": "display_data",
          "data": {
            "image/png": "[encoded data removed]",
            "text/plain": [
              "<Figure size 432x288 with 1 Axes>"
            ]
          },
          "metadata": {
            "tags": [],
            "needs_background": "light"
          }
        }
      ]
    },
    {
      "cell_type": "code",
      "metadata": {
        "id": "j5QYhCNtg514",
        "colab": {
          "base_uri": "https://localhost:8080/",
          "height": 334
        },
        "outputId": "0ecf518a-2ceb-4041-8350-6d98838ea543"
      },
      "source": [
        "# Look at distribution of genders: validation set\n",
        "sns.countplot(df_val['gender']);"
      ],
      "execution_count": 13,
      "outputs": [
        {
          "output_type": "stream",
          "text": [
            "/usr/local/lib/python3.6/dist-packages/seaborn/_decorators.py:43: FutureWarning: Pass the following variable as a keyword arg: x. From version 0.12, the only valid positional argument will be `data`, and passing other arguments without an explicit keyword will result in an error or misinterpretation.\n",
            "  FutureWarning\n"
          ],
          "name": "stderr"
        },
        {
          "output_type": "display_data",
          "data": {
            "image/png": "[encoded data removed]",
            "text/plain": [
              "<Figure size 432x288 with 1 Axes>"
            ]
          },
          "metadata": {
            "tags": [],
            "needs_background": "light"
          }
        }
      ]
    },
    {
      "cell_type": "code",
      "metadata": {
        "colab": {
          "base_uri": "https://localhost:8080/"
        },
        "id": "FYaMDEDxgxI9",
        "outputId": "724154d4-b022-4741-daa1-3418a35e08f2"
      },
      "source": [
        "# Calculate distribution of genders for both datasets\n",
        "print('TRAINING male %: ', len(df_train[df_train['gender'] == 'male']) / len(df_train) * 100)\n",
        "print('VALIDATION male %: ', len(df_val[df_val['gender'] == 'male']) / len(df_val) * 100)"
      ],
      "execution_count": 18,
      "outputs": [
        {
          "output_type": "stream",
          "text": [
            "TRAINING male %:  54.182856236618825\n",
            "VALIDATION male %:  54.24561403508772\n"
          ],
          "name": "stdout"
        }
      ]
    },
    {
      "cell_type": "markdown",
      "metadata": {
        "id": "tcceoMR1hCeY"
      },
      "source": [
        "There are more male images for both datasets and the distribution appears similar between the datasets."
      ]
    },
    {
      "cell_type": "code",
      "metadata": {
        "id": "rfupnU6VmV-Y",
        "colab": {
          "base_uri": "https://localhost:8080/",
          "height": 442
        },
        "outputId": "05ed1495-9c53-4d07-8715-e2edd00facda"
      },
      "source": [
        "# Look at distribution of ages within each gender: training set\n",
        "male = df_train[df_train['gender'] == 'male']\n",
        "female = df_train[df_train['gender'] == 'female']\n",
        "\n",
        "fig, ax = plt.subplots(2,1)\n",
        "ax[0].hist(male['boneage'], color = 'blue', bins=10)\n",
        "ax[0].set_ylabel('Number of males')\n",
        "ax[1].hist(female['boneage'], color = 'orange', bins=10)\n",
        "ax[1].set_xlabel('Age in months')\n",
        "ax[1].set_ylabel('Number of females')\n",
        "fig.set_size_inches((10,7));"
      ],
      "execution_count": 15,
      "outputs": [
        {
          "output_type": "display_data",
          "data": {
            "image/png": "[encoded data removed]",
            "text/plain": [
              "<Figure size 720x504 with 2 Axes>"
            ]
          },
          "metadata": {
            "tags": [],
            "needs_background": "light"
          }
        }
      ]
    },
    {
      "cell_type": "code",
      "metadata": {
        "id": "W4_vUefzhH1D",
        "colab": {
          "base_uri": "https://localhost:8080/",
          "height": 442
        },
        "outputId": "bc2c779c-09cc-40a4-caf0-c41b6be09107"
      },
      "source": [
        "# Look at distribution of ages within each gender: validation set\n",
        "male = df_val[df_val['gender'] == 'male']\n",
        "female = df_val[df_val['gender'] == 'female']\n",
        "\n",
        "fig, ax = plt.subplots(2,1)\n",
        "ax[0].hist(male['boneage'], color = 'blue', bins=10)\n",
        "ax[0].set_ylabel('Number of males')\n",
        "ax[1].hist(female['boneage'], color = 'orange', bins=10)\n",
        "ax[1].set_xlabel('Age in months')\n",
        "ax[1].set_ylabel('Number of females')\n",
        "fig.set_size_inches((10,7));"
      ],
      "execution_count": 16,
      "outputs": [
        {
          "output_type": "display_data",
          "data": {
            "image/png": "[encoded data removed]",
            "text/plain": [
              "<Figure size 720x504 with 2 Axes>"
            ]
          },
          "metadata": {
            "tags": [],
            "needs_background": "light"
          }
        }
      ]
    },
    {
      "cell_type": "code",
      "metadata": {
        "id": "g14d3nj2Henr"
      },
      "source": [
        "# Save dataframes as .csv files\n",
        "df_train.to_csv('df_train.csv', index=False)\n",
        "df_val.to_csv('df_val.csv', index=False)"
      ],
      "execution_count": null,
      "outputs": []
    },
    {
      "cell_type": "code",
      "metadata": {
        "id": "Cvv099wZmRD-"
      },
      "source": [
        "# View some images\n",
        "from PIL import Image\n",
        "\n",
        "path = '/content/boneage-training-dataset/'\n",
        "\n",
        "for filename in train_df['filename'].sample(3):\n",
        "  img = Image.open(path+filename)\n",
        "  plt.axis('off')\n",
        "  plt.imshow(img, cmap='bone')"
      ],
      "execution_count": null,
      "outputs": []
    },
    {
      "cell_type": "markdown",
      "metadata": {
        "id": "AypOUnesum5k"
      },
      "source": [
        "## Prepare sex-specific datasets"
      ]
    },
    {
      "cell_type": "code",
      "metadata": {
        "id": "mtGKti1_uooY"
      },
      "source": [
        "# Training data\n",
        "df_train_male = df_train[df_train['gender'] == 'male']\n",
        "df_train_female = df_train[df_train['gender'] == 'female']\n",
        "\n",
        "# Validation data\n",
        "df_val_male = df_val[df_val['gender'] == 'male']\n",
        "df_val_female = df_val[df_val['gender'] == 'female']"
      ],
      "execution_count": 25,
      "outputs": []
    },
    {
      "cell_type": "code",
      "metadata": {
        "id": "gp3hKgh7u8Ch"
      },
      "source": [
        "# Calculate mean & std for each gender group\n",
        "male_boneage_mean = (df_train_male['boneage'].mean() + df_val_male['boneage'].mean()) / 2\n",
        "male_boneage_std = (df_train_male['boneage'].std() + df_val_male['boneage'].std()) / 2\n",
        "\n",
        "female_boneage_mean = (df_train_female['boneage'].mean() + df_val_female['boneage'].mean()) / 2\n",
        "female_boneage_std = (df_train_female['boneage'].std() + df_val_female['boneage'].std()) / 2"
      ],
      "execution_count": 26,
      "outputs": []
    },
    {
      "cell_type": "code",
      "metadata": {
        "id": "dL_7ZLVMYey8",
        "colab": {
          "base_uri": "https://localhost:8080/"
        },
        "outputId": "c262c146-e78a-4f2d-be37-7f832b5f45c3"
      },
      "source": [
        "# Drop original boneage_zscore columns\n",
        "df_train_male.drop(columns = 'boneage_zscore', inplace = True)\n",
        "df_val_male.drop(columns = 'boneage_zscore', inplace = True)\n",
        "df_train_female.drop(columns = 'boneage_zscore', inplace = True)\n",
        "df_val_female.drop(columns = 'boneage_zscore', inplace = True)"
      ],
      "execution_count": 27,
      "outputs": [
        {
          "output_type": "stream",
          "text": [
            "/usr/local/lib/python3.6/dist-packages/pandas/core/frame.py:4174: SettingWithCopyWarning: \n",
            "A value is trying to be set on a copy of a slice from a DataFrame\n",
            "\n",
            "See the caveats in the documentation: https://pandas.pydata.org/pandas-docs/stable/user_guide/indexing.html#returning-a-view-versus-a-copy\n",
            "  errors=errors,\n"
          ],
          "name": "stderr"
        }
      ]
    },
    {
      "cell_type": "code",
      "metadata": {
        "id": "Lgt-eOG8xLhV",
        "colab": {
          "base_uri": "https://localhost:8080/",
          "height": 1000
        },
        "outputId": "f957a23b-34ca-4891-9b5e-a2648fd94e2e"
      },
      "source": [
        "# Standardize bone ages for each data set\n",
        "df_train_male['boneage_zscore'] = (df_train_male['boneage'] - male_boneage_mean)/male_boneage_std\n",
        "df_val_male['boneage_zscore'] = (df_val_male['boneage'] - male_boneage_mean)/male_boneage_std\n",
        "\n",
        "df_train_female['boneage_zscore'] = (df_train_female['boneage'] - female_boneage_mean)/female_boneage_std\n",
        "df_val_female['boneage_zscore'] = (df_val_female['boneage'] - female_boneage_mean)/female_boneage_std\n",
        "\n",
        "df_train_male.head()\n",
        "df_val_male.head()\n",
        "\n",
        "df_train_female.head()\n",
        "df_val_female.head()"
      ],
      "execution_count": 28,
      "outputs": [
        {
          "output_type": "stream",
          "text": [
            "/usr/local/lib/python3.6/dist-packages/ipykernel_launcher.py:2: SettingWithCopyWarning: \n",
            "A value is trying to be set on a copy of a slice from a DataFrame.\n",
            "Try using .loc[row_indexer,col_indexer] = value instead\n",
            "\n",
            "See the caveats in the documentation: https://pandas.pydata.org/pandas-docs/stable/user_guide/indexing.html#returning-a-view-versus-a-copy\n",
            "  \n",
            "/usr/local/lib/python3.6/dist-packages/ipykernel_launcher.py:3: SettingWithCopyWarning: \n",
            "A value is trying to be set on a copy of a slice from a DataFrame.\n",
            "Try using .loc[row_indexer,col_indexer] = value instead\n",
            "\n",
            "See the caveats in the documentation: https://pandas.pydata.org/pandas-docs/stable/user_guide/indexing.html#returning-a-view-versus-a-copy\n",
            "  This is separate from the ipykernel package so we can avoid doing imports until\n",
            "/usr/local/lib/python3.6/dist-packages/ipykernel_launcher.py:5: SettingWithCopyWarning: \n",
            "A value is trying to be set on a copy of a slice from a DataFrame.\n",
            "Try using .loc[row_indexer,col_indexer] = value instead\n",
            "\n",
            "See the caveats in the documentation: https://pandas.pydata.org/pandas-docs/stable/user_guide/indexing.html#returning-a-view-versus-a-copy\n",
            "  \"\"\"\n",
            "/usr/local/lib/python3.6/dist-packages/ipykernel_launcher.py:6: SettingWithCopyWarning: \n",
            "A value is trying to be set on a copy of a slice from a DataFrame.\n",
            "Try using .loc[row_indexer,col_indexer] = value instead\n",
            "\n",
            "See the caveats in the documentation: https://pandas.pydata.org/pandas-docs/stable/user_guide/indexing.html#returning-a-view-versus-a-copy\n",
            "  \n"
          ],
          "name": "stderr"
        },
        {
          "output_type": "execute_result",
          "data": {
            "text/html": [
              "<div>\n",
              "<style scoped>\n",
              "    .dataframe tbody tr th:only-of-type {\n",
              "        vertical-align: middle;\n",
              "    }\n",
              "\n",
              "    .dataframe tbody tr th {\n",
              "        vertical-align: top;\n",
              "    }\n",
              "\n",
              "    .dataframe thead th {\n",
              "        text-align: right;\n",
              "    }\n",
              "</style>\n",
              "<table border=\"1\" class=\"dataframe\">\n",
              "  <thead>\n",
              "    <tr style=\"text-align: right;\">\n",
              "      <th></th>\n",
              "      <th>id</th>\n",
              "      <th>boneage</th>\n",
              "      <th>filename</th>\n",
              "      <th>gender</th>\n",
              "      <th>boneage_zscore</th>\n",
              "    </tr>\n",
              "  </thead>\n",
              "  <tbody>\n",
              "    <tr>\n",
              "      <th>3</th>\n",
              "      <td>1380</td>\n",
              "      <td>120</td>\n",
              "      <td>1380.png</td>\n",
              "      <td>male</td>\n",
              "      <td>-0.356900</td>\n",
              "    </tr>\n",
              "    <tr>\n",
              "      <th>5</th>\n",
              "      <td>1382</td>\n",
              "      <td>138</td>\n",
              "      <td>1382.png</td>\n",
              "      <td>male</td>\n",
              "      <td>0.068268</td>\n",
              "    </tr>\n",
              "    <tr>\n",
              "      <th>6</th>\n",
              "      <td>1383</td>\n",
              "      <td>150</td>\n",
              "      <td>1383.png</td>\n",
              "      <td>male</td>\n",
              "      <td>0.351713</td>\n",
              "    </tr>\n",
              "    <tr>\n",
              "      <th>7</th>\n",
              "      <td>1384</td>\n",
              "      <td>156</td>\n",
              "      <td>1384.png</td>\n",
              "      <td>male</td>\n",
              "      <td>0.493436</td>\n",
              "    </tr>\n",
              "    <tr>\n",
              "      <th>8</th>\n",
              "      <td>1385</td>\n",
              "      <td>36</td>\n",
              "      <td>1385.png</td>\n",
              "      <td>male</td>\n",
              "      <td>-2.341017</td>\n",
              "    </tr>\n",
              "  </tbody>\n",
              "</table>\n",
              "</div>"
            ],
            "text/plain": [
              "     id  boneage  filename gender  boneage_zscore\n",
              "3  1380      120  1380.png   male       -0.356900\n",
              "5  1382      138  1382.png   male        0.068268\n",
              "6  1383      150  1383.png   male        0.351713\n",
              "7  1384      156  1384.png   male        0.493436\n",
              "8  1385       36  1385.png   male       -2.341017"
            ]
          },
          "metadata": {
            "tags": []
          },
          "execution_count": 28
        },
        {
          "output_type": "execute_result",
          "data": {
            "text/html": [
              "<div>\n",
              "<style scoped>\n",
              "    .dataframe tbody tr th:only-of-type {\n",
              "        vertical-align: middle;\n",
              "    }\n",
              "\n",
              "    .dataframe tbody tr th {\n",
              "        vertical-align: top;\n",
              "    }\n",
              "\n",
              "    .dataframe thead th {\n",
              "        text-align: right;\n",
              "    }\n",
              "</style>\n",
              "<table border=\"1\" class=\"dataframe\">\n",
              "  <thead>\n",
              "    <tr style=\"text-align: right;\">\n",
              "      <th></th>\n",
              "      <th>id</th>\n",
              "      <th>boneage</th>\n",
              "      <th>filename</th>\n",
              "      <th>gender</th>\n",
              "      <th>boneage_zscore</th>\n",
              "    </tr>\n",
              "  </thead>\n",
              "  <tbody>\n",
              "    <tr>\n",
              "      <th>1</th>\n",
              "      <td>1392</td>\n",
              "      <td>162</td>\n",
              "      <td>1392.png</td>\n",
              "      <td>male</td>\n",
              "      <td>0.635159</td>\n",
              "    </tr>\n",
              "    <tr>\n",
              "      <th>4</th>\n",
              "      <td>1410</td>\n",
              "      <td>57</td>\n",
              "      <td>1410.png</td>\n",
              "      <td>male</td>\n",
              "      <td>-1.844988</td>\n",
              "    </tr>\n",
              "    <tr>\n",
              "      <th>5</th>\n",
              "      <td>1413</td>\n",
              "      <td>150</td>\n",
              "      <td>1413.png</td>\n",
              "      <td>male</td>\n",
              "      <td>0.351713</td>\n",
              "    </tr>\n",
              "    <tr>\n",
              "      <th>6</th>\n",
              "      <td>1421</td>\n",
              "      <td>24</td>\n",
              "      <td>1421.png</td>\n",
              "      <td>male</td>\n",
              "      <td>-2.624462</td>\n",
              "    </tr>\n",
              "    <tr>\n",
              "      <th>8</th>\n",
              "      <td>1450</td>\n",
              "      <td>16</td>\n",
              "      <td>1450.png</td>\n",
              "      <td>male</td>\n",
              "      <td>-2.813426</td>\n",
              "    </tr>\n",
              "  </tbody>\n",
              "</table>\n",
              "</div>"
            ],
            "text/plain": [
              "     id  boneage  filename gender  boneage_zscore\n",
              "1  1392      162  1392.png   male        0.635159\n",
              "4  1410       57  1410.png   male       -1.844988\n",
              "5  1413      150  1413.png   male        0.351713\n",
              "6  1421       24  1421.png   male       -2.624462\n",
              "8  1450       16  1450.png   male       -2.813426"
            ]
          },
          "metadata": {
            "tags": []
          },
          "execution_count": 28
        },
        {
          "output_type": "execute_result",
          "data": {
            "text/html": [
              "<div>\n",
              "<style scoped>\n",
              "    .dataframe tbody tr th:only-of-type {\n",
              "        vertical-align: middle;\n",
              "    }\n",
              "\n",
              "    .dataframe tbody tr th {\n",
              "        vertical-align: top;\n",
              "    }\n",
              "\n",
              "    .dataframe thead th {\n",
              "        text-align: right;\n",
              "    }\n",
              "</style>\n",
              "<table border=\"1\" class=\"dataframe\">\n",
              "  <thead>\n",
              "    <tr style=\"text-align: right;\">\n",
              "      <th></th>\n",
              "      <th>id</th>\n",
              "      <th>boneage</th>\n",
              "      <th>filename</th>\n",
              "      <th>gender</th>\n",
              "      <th>boneage_zscore</th>\n",
              "    </tr>\n",
              "  </thead>\n",
              "  <tbody>\n",
              "    <tr>\n",
              "      <th>0</th>\n",
              "      <td>1377</td>\n",
              "      <td>180</td>\n",
              "      <td>1377.png</td>\n",
              "      <td>female</td>\n",
              "      <td>1.618352</td>\n",
              "    </tr>\n",
              "    <tr>\n",
              "      <th>1</th>\n",
              "      <td>1378</td>\n",
              "      <td>12</td>\n",
              "      <td>1378.png</td>\n",
              "      <td>female</td>\n",
              "      <td>-2.761113</td>\n",
              "    </tr>\n",
              "    <tr>\n",
              "      <th>2</th>\n",
              "      <td>1379</td>\n",
              "      <td>94</td>\n",
              "      <td>1379.png</td>\n",
              "      <td>female</td>\n",
              "      <td>-0.623517</td>\n",
              "    </tr>\n",
              "    <tr>\n",
              "      <th>4</th>\n",
              "      <td>1381</td>\n",
              "      <td>82</td>\n",
              "      <td>1381.png</td>\n",
              "      <td>female</td>\n",
              "      <td>-0.936336</td>\n",
              "    </tr>\n",
              "    <tr>\n",
              "      <th>10</th>\n",
              "      <td>1388</td>\n",
              "      <td>126</td>\n",
              "      <td>1388.png</td>\n",
              "      <td>female</td>\n",
              "      <td>0.210667</td>\n",
              "    </tr>\n",
              "  </tbody>\n",
              "</table>\n",
              "</div>"
            ],
            "text/plain": [
              "      id  boneage  filename  gender  boneage_zscore\n",
              "0   1377      180  1377.png  female        1.618352\n",
              "1   1378       12  1378.png  female       -2.761113\n",
              "2   1379       94  1379.png  female       -0.623517\n",
              "4   1381       82  1381.png  female       -0.936336\n",
              "10  1388      126  1388.png  female        0.210667"
            ]
          },
          "metadata": {
            "tags": []
          },
          "execution_count": 28
        },
        {
          "output_type": "execute_result",
          "data": {
            "text/html": [
              "<div>\n",
              "<style scoped>\n",
              "    .dataframe tbody tr th:only-of-type {\n",
              "        vertical-align: middle;\n",
              "    }\n",
              "\n",
              "    .dataframe tbody tr th {\n",
              "        vertical-align: top;\n",
              "    }\n",
              "\n",
              "    .dataframe thead th {\n",
              "        text-align: right;\n",
              "    }\n",
              "</style>\n",
              "<table border=\"1\" class=\"dataframe\">\n",
              "  <thead>\n",
              "    <tr style=\"text-align: right;\">\n",
              "      <th></th>\n",
              "      <th>id</th>\n",
              "      <th>boneage</th>\n",
              "      <th>filename</th>\n",
              "      <th>gender</th>\n",
              "      <th>boneage_zscore</th>\n",
              "    </tr>\n",
              "  </thead>\n",
              "  <tbody>\n",
              "    <tr>\n",
              "      <th>0</th>\n",
              "      <td>1386</td>\n",
              "      <td>30</td>\n",
              "      <td>1386.png</td>\n",
              "      <td>female</td>\n",
              "      <td>-2.291884</td>\n",
              "    </tr>\n",
              "    <tr>\n",
              "      <th>2</th>\n",
              "      <td>1397</td>\n",
              "      <td>18</td>\n",
              "      <td>1397.png</td>\n",
              "      <td>female</td>\n",
              "      <td>-2.604703</td>\n",
              "    </tr>\n",
              "    <tr>\n",
              "      <th>3</th>\n",
              "      <td>1401</td>\n",
              "      <td>132</td>\n",
              "      <td>1401.png</td>\n",
              "      <td>female</td>\n",
              "      <td>0.367076</td>\n",
              "    </tr>\n",
              "    <tr>\n",
              "      <th>7</th>\n",
              "      <td>1449</td>\n",
              "      <td>120</td>\n",
              "      <td>1449.png</td>\n",
              "      <td>female</td>\n",
              "      <td>0.054257</td>\n",
              "    </tr>\n",
              "    <tr>\n",
              "      <th>10</th>\n",
              "      <td>1465</td>\n",
              "      <td>39</td>\n",
              "      <td>1465.png</td>\n",
              "      <td>female</td>\n",
              "      <td>-2.057270</td>\n",
              "    </tr>\n",
              "  </tbody>\n",
              "</table>\n",
              "</div>"
            ],
            "text/plain": [
              "      id  boneage  filename  gender  boneage_zscore\n",
              "0   1386       30  1386.png  female       -2.291884\n",
              "2   1397       18  1397.png  female       -2.604703\n",
              "3   1401      132  1401.png  female        0.367076\n",
              "7   1449      120  1449.png  female        0.054257\n",
              "10  1465       39  1465.png  female       -2.057270"
            ]
          },
          "metadata": {
            "tags": []
          },
          "execution_count": 28
        }
      ]
    },
    {
      "cell_type": "code",
      "metadata": {
        "id": "zcqr1xT0jaup"
      },
      "source": [
        "# Save dataframes as .csv files\n",
        "df_train_male.to_csv('df_train_male.csv', index=False)\n",
        "df_val_male.to_csv('df_val_male.csv', index=False)\n",
        "\n",
        "df_train_female.to_csv('df_train_female.csv', index=False)\n",
        "df_val_female.to_csv('df_val_female.csv', index=False)"
      ],
      "execution_count": null,
      "outputs": []
    },
    {
      "cell_type": "markdown",
      "metadata": {
        "id": "iUdFFiG4cREg"
      },
      "source": [
        "### Image Preprocessing"
      ]
    },
    {
      "cell_type": "code",
      "metadata": {
        "id": "CcT9M-WXb2Sp",
        "cellView": "form"
      },
      "source": [
        "#@title\n",
        "# Change working directory to save enhanced images\n",
        "os.chdir('/content/training_enhanced')\n",
        "\n",
        "# Enhance contrast\n",
        "# Code from OpenCV tutorial\n",
        "path = '/content/boneage-training-dataset/boneage-training-dataset/'\n",
        "for filename in train_df1['filename']:\n",
        "  id = filename[:-4]\n",
        "  img = cv2.imread(path+filename,0)\n",
        "  clahe = cv2.createCLAHE(clipLimit=2.0, tileGridSize=(8,8))\n",
        "  cl1 = clahe.apply(img)\n",
        "  cv2.imwrite('{}.png'.format(id),cl1)"
      ],
      "execution_count": null,
      "outputs": []
    },
    {
      "cell_type": "code",
      "metadata": {
        "id": "R5CmnHRxe64O"
      },
      "source": [
        "# Image enhancement\n",
        "import cv2\n",
        "\n",
        "def enhance(path, filename):\n",
        "    '''Function to enhance contrast of images'''\n",
        "    img = cv2.imread(path+filename,0)\n",
        "    clahe = cv2.createCLAHE(clipLimit=2.0, tileGridSize=(64,64))\n",
        "    cl1 = clahe.apply(img)\n",
        "    cv2.imwrite(path+filename,cl1)\n",
        "\n",
        "filenames = list(df_train['filename'])\n",
        "\n",
        "for filename in filenames:\n",
        "    enhance('/content/boneage-training-dataset/boneage-training-dataset/', filename)"
      ],
      "execution_count": null,
      "outputs": []
    },
    {
      "cell_type": "code",
      "metadata": {
        "id": "RR52YDHRNSkI",
        "colab": {
          "base_uri": "https://localhost:8080/"
        },
        "outputId": "1a658adb-31fe-472f-9a81-9f45e96deeba"
      },
      "source": [
        "# To increase the robustness of my data set (by adding more data) and prevent overfitting,\n",
        "# I will use image augmentation for my training set\n",
        "# Code adapted from: ***\n",
        "import tensorflow as tf\n",
        "from keras.preprocessing.image import ImageDataGenerator\n",
        "from keras.applications.xception import preprocess_input\n",
        "\n",
        "# Set image size\n",
        "img_size = 299\n",
        "\n",
        "# Data augmentation\n",
        "train_datagen = ImageDataGenerator(\n",
        "    preprocessing_function = preprocess_input,\n",
        "    samplewise_center = False,\n",
        "    samplewise_std_normalization = False,\n",
        "    horizontal_flip = True,\n",
        "    vertical_flip = False,\n",
        "    height_shift_range = 0.2,\n",
        "    width_shift_range = 0.2,\n",
        "    rotation_range = 20,\n",
        "    shear_range = 0.2,\n",
        "    zoom_range = 0.2,\n",
        "    fill_mode = 'nearest')\n",
        "\n",
        "# Inference\n",
        "val_datagen = ImageDataGenerator(preprocessing_function = preprocess_input,\n",
        "                                  width_shift_range = 0.25,\n",
        "                                  height_shift_range = 0.25,\n",
        "                                  horizontal_flip = True)\n",
        "\n",
        "train_generator = train_datagen.flow_from_dataframe(\n",
        "  df_train,\n",
        "  directory = '/content/boneage-training-dataset/boneage-training-dataset/',\n",
        "  x_col = \"filename\",\n",
        "  y_col = \"boneage_zscore\",\n",
        "  target_size = (img_size, img_size),\n",
        "  color_mode = \"rgb\",\n",
        "  class_mode = \"raw\",\n",
        "  batch_size = 32,\n",
        "  shuffle = True,\n",
        "  seed = 42\n",
        ")\n",
        "\n",
        "validation_generator = val_datagen.flow_from_dataframe(\n",
        "  df_val,\n",
        "  directory = '/content/drive/MyDrive/boneage_images/boneage-validation-dataset/',\n",
        "  x_col = \"filename\",\n",
        "  y_col = \"boneage_zscore\",\n",
        "  target_size = (img_size, img_size),\n",
        "  color_mode = \"rgb\",\n",
        "  class_mode = \"raw\",\n",
        "  batch_size = 256,\n",
        "  shuffle = False,\n",
        "  seed = 42\n",
        ")"
      ],
      "execution_count": null,
      "outputs": [
        {
          "output_type": "stream",
          "text": [
            "Found 12611 validated image filenames.\n",
            "Found 1425 validated image filenames.\n"
          ],
          "name": "stdout"
        }
      ]
    },
    {
      "cell_type": "code",
      "metadata": {
        "id": "Eq7sTHAKjaO2"
      },
      "source": [
        "# Test images\n",
        "test_generator = test_datagen.flow_from_directory(\n",
        "    directory = '/content/drive/MyDrive/boneage_images/boneage_test_images/',\n",
        "    target_size = (img_size, img_size),\n",
        "    color_mode = \"rgb\",\n",
        "    class_mode = None,\n",
        "    shuffle = True,\n",
        "    seed = 42\n",
        ")"
      ],
      "execution_count": null,
      "outputs": []
    },
    {
      "cell_type": "code",
      "metadata": {
        "id": "zDmq27Pyvb4I"
      },
      "source": [
        "# For each gender group\n",
        "# Male\n",
        "male_train_generator = train_datagen.flow_from_dataframe(\n",
        "  df_train_male,\n",
        "  directory = '/content/boneage-training-dataset/boneage-training-dataset/',\n",
        "  x_col = \"filename\",\n",
        "  y_col = \"boneage_zscore\",\n",
        "  target_size = (img_size, img_size),\n",
        "  color_mode = \"rgb\",\n",
        "  class_mode = \"raw\",\n",
        "  batch_size = 16,\n",
        "  shuffle = True,\n",
        "  seed=42\n",
        ")\n",
        "\n",
        "male_validation_generator = val_datagen.flow_from_dataframe(\n",
        "  df_val_male,\n",
        "  directory = '/content/drive/MyDrive/boneage_images/boneage-validation-dataset/',\n",
        "  x_col = \"filename\",\n",
        "  y_col = \"boneage_zscore\",\n",
        "  target_size = (img_size, img_size),\n",
        "  color_mode = \"rgb\",\n",
        "  class_mode = \"raw\",\n",
        "  batch_size = 16,\n",
        "  shuffle = True,\n",
        "  seed = 42\n",
        ")\n",
        "\n",
        "# Female\n",
        "female_train_generator = train_datagen.flow_from_dataframe(\n",
        "  df_train_female,\n",
        "  directory = '/content/boneage-training-dataset/boneage-training-dataset/',\n",
        "  x_col = \"filename\",\n",
        "  y_col = \"boneage_zscore\",\n",
        "  target_size = (img_size, img_size),\n",
        "  color_mode = \"rgb\",\n",
        "  class_mode = \"raw\",\n",
        "  batch_size = 16,\n",
        "  shuffle = True,\n",
        "  seed = 42\n",
        ")\n",
        "\n",
        "female_validation_generator = val_datagen.flow_from_dataframe(\n",
        "  df_val_female,\n",
        "  directory = '/content/drive/MyDrive/boneage_images/boneage-validation-dataset/',\n",
        "  x_col = \"filename\",\n",
        "  y_col = \"boneage_zscore\",\n",
        "  target_size = (img_size, img_size),\n",
        "  color_mode = \"rgb\",\n",
        "  class_mode = \"raw\",\n",
        "  batch_size = 16,\n",
        "  shuffle = True,\n",
        "  seed = 42\n",
        ")"
      ],
      "execution_count": null,
      "outputs": []
    },
    {
      "cell_type": "code",
      "metadata": {
        "id": "JgxZ7yam1e9g"
      },
      "source": [
        "test_X, test_Y = next(flow_from_dataframe(test_datagen,\n",
        "                                          df_valid,\n",
        "                                          path_col = '/content/drive/MyDrive/boneage_images/boneage-validation-dataset/',\n",
        "                                          y_col = 'boneage_zscore',\n",
        "                                          target_size = img_size,\n",
        "                                          color_mode = 'rgb',\n",
        "                                          batch_size = 1425))"
      ],
      "execution_count": null,
      "outputs": []
    },
    {
      "cell_type": "code",
      "metadata": {
        "id": "kxyglfvCV9eR"
      },
      "source": [
        "# Function to plot training & validation error\n",
        "# Code adapted from: ***\n",
        "def plot_it(history):\n",
        "    '''Function to plot training and validation error'''\n",
        "    fig, ax = plt.subplots(figsize=(10,7))\n",
        "    ax.plot(history.history['mae_months'])\n",
        "    ax.plot(history.history['val_mae_months'])\n",
        "    plt.title('Model Error')\n",
        "    plt.ylabel('error')\n",
        "    plt.xlabel('Epoch')\n",
        "    plt.legend(['Train', 'Val'], loc='upper right')\n",
        "    ax.grid(color='black')\n",
        "    plt.show()"
      ],
      "execution_count": null,
      "outputs": []
    },
    {
      "cell_type": "code",
      "metadata": {
        "id": "1bzouvV_V_YB"
      },
      "source": [
        "# Functions to calculate mean absolute error\n",
        "# Code adapted from: ***\n",
        "from keras.metrics import mean_absolute_error\n",
        "\n",
        "def mae_months(x_p, y_p):\n",
        "    return mean_absolute_error((boneage_std*x_p + boneage_mean), (boneage_std*y_p + boneage_mean))\n",
        "\n",
        "# def mae_months_male(x_p, y_p):\n",
        "#     return mean_absolute_error((male_boneage_std*x_p + male_boneage_mean), (male_boneage_std*y_p + male_boneage_mean))\n",
        "\n",
        "# def mae_months_female(x_p, y_p):\n",
        "#     return mean_absolute_error((female_boneage_std*x_p + female_boneage_mean), (female_boneage_std*y_p + female_boneage_mean)) "
      ],
      "execution_count": null,
      "outputs": []
    },
    {
      "cell_type": "code",
      "metadata": {
        "id": "a9efXxXgsSl_",
        "colab": {
          "base_uri": "https://localhost:8080/"
        },
        "outputId": "4e034036-f665-451b-ed41-03dab133f0e4"
      },
      "source": [
        "# Xception model\n",
        "from tensorflow.keras import Sequential, models, layers, optimizers\n",
        "from tensorflow.keras.layers import GlobalAveragePooling2D, GlobalMaxPooling2D, Dense, Flatten, Dropout, Conv2D\n",
        "from keras.applications.xception import Xception\n",
        "from keras.optimizers import Adam\n",
        "\n",
        "# Instantiate convolutional base\n",
        "conv_base = tf.keras.applications.xception.Xception(\n",
        "    include_top = False,\n",
        "    weights = \"imagenet\",\n",
        "    input_shape = (299, 299, 3)\n",
        ")"
      ],
      "execution_count": null,
      "outputs": [
        {
          "output_type": "stream",
          "text": [
            "Downloading data from https://storage.googleapis.com/tensorflow/keras-applications/xception/xception_weights_tf_dim_ordering_tf_kernels_notop.h5\n",
            "83689472/83683744 [==============================] - 1s 0us/step\n"
          ],
          "name": "stdout"
        }
      ]
    },
    {
      "cell_type": "code",
      "metadata": {
        "id": "FMsTzO9DA2hr"
      },
      "source": [
        "# Other model(s)\n",
        "from tensorflow.keras import Sequential, models, layers, optimizers\n",
        "from tensorflow.keras.layers import GlobalAveragePooling2D, GlobalMaxPooling2D, Dense, Flatten, Dropout, Conv2D\n",
        "from keras.applications.resnet_v2 import ResNet50V2\n",
        "\n",
        "conv_base = tf.keras.applications.ResNet50V2(\n",
        "    include_top = False,\n",
        "    weights = \"imagenet\",\n",
        "    input_shape = (256, 256, 3)\n",
        ")"
      ],
      "execution_count": null,
      "outputs": []
    },
    {
      "cell_type": "code",
      "metadata": {
        "id": "t_ajPMmRpvMJ"
      },
      "source": [
        "# Fine-tuning Xception model: unfreeze last 2 blocks\n",
        "for i, layer in enumerate(conv_base.layers):\n",
        "    if i < 115:\n",
        "        layer.trainable = False\n",
        "    else:\n",
        "        layer.trainable = True\n",
        "\n",
        "conv_base.summary()"
      ],
      "execution_count": null,
      "outputs": []
    },
    {
      "cell_type": "code",
      "metadata": {
        "id": "kNIBal54CzCW"
      },
      "source": [
        "# Fine-tuning ResNet50V2 model: unfreeze top 2 layers\n",
        "for layer in conv_base.layers[:172]:\n",
        "   layer.trainable = False\n",
        "for layer in conv_base.layers[172:]:\n",
        "   layer.trainable = True\n",
        "\n",
        "conv_base.summary()"
      ],
      "execution_count": null,
      "outputs": []
    },
    {
      "cell_type": "code",
      "metadata": {
        "id": "_2-v0Ond0qjA",
        "cellView": "form"
      },
      "source": [
        "#@title\n",
        "## Fine-tuning\n",
        "# Unfreeze last 2 blocks\n",
        "import re\n",
        "\n",
        "conv_base.trainable = True\n",
        "\n",
        "set_trainable = False\n",
        "for layer in conv_base.layers:\n",
        "    if re.search('block14', layer.name):\n",
        "        set_trainable = True\n",
        "    if re.search('block13', layer.name):\n",
        "        set_trainable = True\n",
        "    if set_trainable:\n",
        "        layer.trainable = True\n",
        "    else:\n",
        "        layer.trainable = False\n",
        "\n",
        "conv_base.summary()"
      ],
      "execution_count": null,
      "outputs": []
    },
    {
      "cell_type": "code",
      "metadata": {
        "id": "NbPgOCTjd_e3",
        "cellView": "form"
      },
      "source": [
        "#@title\n",
        "## Fine-tuning\n",
        "# Unfreeze last 3 blocks\n",
        "import re\n",
        "\n",
        "conv_base.trainable = True\n",
        "\n",
        "set_trainable = False\n",
        "for layer in conv_base.layers:\n",
        "    if re.search('block14', layer.name):\n",
        "        set_trainable = True\n",
        "    if re.search('block13', layer.name):\n",
        "        set_trainable = True\n",
        "    if re.search('block12', layer.name):\n",
        "        set_trainable = True\n",
        "    if set_trainable:\n",
        "        layer.trainable = True\n",
        "    else:\n",
        "        layer.trainable = False\n",
        "\n",
        "conv_base.summary()"
      ],
      "execution_count": null,
      "outputs": []
    },
    {
      "cell_type": "code",
      "metadata": {
        "id": "JQMzoNycDO-6",
        "cellView": "form"
      },
      "source": [
        "#@title\n",
        "# Freeze batch normalization layers for training end-to-end\n",
        "import re\n",
        "\n",
        "conv_base.trainable = True\n",
        "\n",
        "set_trainable = False\n",
        "for layer in conv_base.layers:\n",
        "  if not re.search('batch_normalization', layer.name):\n",
        "    set_trainable = True\n",
        "  elif set_trainable:\n",
        "    layer.trainable = True\n",
        "  else:\n",
        "    layer.trainable = False\n",
        "\n",
        "conv_base.summary()"
      ],
      "execution_count": null,
      "outputs": []
    },
    {
      "cell_type": "code",
      "metadata": {
        "id": "OXmsal9xwDjv"
      },
      "source": [
        "# Build model\n",
        "model = models.Sequential()\n",
        "model.add(conv_base)\n",
        "model.add(GlobalAveragePooling2D())\n",
        "model.add(Dropout(0.5))\n",
        "model.add(Flatten())\n",
        "model.add(layers.Dense(500, activation='tanh'))\n",
        "model.add(Dropout(0.25))\n",
        "model.add(layers.Dense(1, activation='linear'))\n",
        "\n",
        "# Compile model\n",
        "model.compile(optimizer=Adam(lr=1e-4), loss='mse', metrics=[mae_months])\n",
        "\n",
        "# Look at model\n",
        "model.summary()"
      ],
      "execution_count": null,
      "outputs": []
    },
    {
      "cell_type": "code",
      "metadata": {
        "id": "oNHsB1dFirI7"
      },
      "source": [
        "# Build model: MALE\n",
        "model_male = models.Sequential()\n",
        "model_male.add(conv_base)\n",
        "model_male.add(GlobalAveragePooling2D())\n",
        "model_male.add(Dropout(0.5))\n",
        "model_male.add(Flatten())\n",
        "model_male.add(layers.Dense(500, activation='tanh'))\n",
        "model_male.add(Dropout(0.25))\n",
        "model_male.add(layers.Dense(1, activation='linear'))\n",
        "\n",
        "# Compile model\n",
        "model_male.compile(optimizer=Adam(lr=1e-4), loss='mse', metrics=[mae_months_male])\n",
        "\n",
        "# Look at model\n",
        "model_male.summary()"
      ],
      "execution_count": null,
      "outputs": []
    },
    {
      "cell_type": "code",
      "metadata": {
        "id": "8yQHv08spfh-"
      },
      "source": [
        "# Build model: FEMALE\n",
        "model_female = models.Sequential()\n",
        "model_female.add(conv_base)\n",
        "model_female.add(GlobalAveragePooling2D())\n",
        "model_female.add(Dropout(0.5))\n",
        "model_female.add(Flatten())\n",
        "model_female.add(layers.Dense(500, activation='tanh'))\n",
        "model_female.add(Dropout(0.25))\n",
        "model_female.add(layers.Dense(1, activation='linear'))\n",
        "\n",
        "# Compile model\n",
        "model_female.compile(optimizer=Adam(lr=1e-4), loss='mse', metrics=[mae_months_male])\n",
        "\n",
        "# Look at model\n",
        "model_female.summary()"
      ],
      "execution_count": null,
      "outputs": []
    },
    {
      "cell_type": "code",
      "metadata": {
        "id": "DEorlA9PXjQt"
      },
      "source": [
        "# Callbacks\n",
        "from tensorflow.keras.callbacks import ModelCheckpoint, EarlyStopping, ReduceLROnPlateau\n",
        "from tensorflow.keras import optimizers\n",
        "\n",
        "# Early stopping\n",
        "early_stopping = EarlyStopping(monitor='val_loss',\n",
        "                               min_delta=0,\n",
        "                               patience=5,\n",
        "                               verbose=0,\n",
        "                               mode='auto')\n",
        "\n",
        "# Model checkpoint\n",
        "mc = ModelCheckpoint('best_model.h5',\n",
        "                     monitor='val_loss',\n",
        "                     mode='min',\n",
        "                     save_best_only=True)\n",
        "\n",
        "# Reduce lr on plateau\n",
        "red_lr_plat = ReduceLROnPlateau(monitor='val_loss',\n",
        "                                factor=0.1,\n",
        "                                patience=10,\n",
        "                                verbose=0,\n",
        "                                mode='auto',\n",
        "                                cooldown=5,\n",
        "                                min_lr=0)\n",
        "\n",
        "callbacks = [early_stopping,\n",
        "             mc,\n",
        "             red_lr_plat]"
      ],
      "execution_count": null,
      "outputs": []
    },
    {
      "cell_type": "code",
      "metadata": {
        "id": "BtnppNRZNVqm",
        "colab": {
          "base_uri": "https://localhost:8080/"
        },
        "outputId": "256530ae-7050-445e-abde-cc86c6f45544"
      },
      "source": [
        "# Set up 'no_attn' model\n",
        "from keras.models import load_model\n",
        "\n",
        "model = load_model('no_attn_model.h5', custom_objects={'mae_months': mae_months})\n",
        "\n",
        "# Check its architecture\n",
        "model.summary()"
      ],
      "execution_count": null,
      "outputs": [
        {
          "output_type": "stream",
          "text": [
            "Model: \"sequential_5\"\n",
            "_________________________________________________________________\n",
            "Layer (type)                 Output Shape              Param #   \n",
            "=================================================================\n",
            "xception (Functional)        (None, 10, 10, 2048)      20861480  \n",
            "_________________________________________________________________\n",
            "global_average_pooling2d_5 ( (None, 2048)              0         \n",
            "_________________________________________________________________\n",
            "dropout_10 (Dropout)         (None, 2048)              0         \n",
            "_________________________________________________________________\n",
            "flatten_5 (Flatten)          (None, 2048)              0         \n",
            "_________________________________________________________________\n",
            "dense_10 (Dense)             (None, 1024)              2098176   \n",
            "_________________________________________________________________\n",
            "dropout_11 (Dropout)         (None, 1024)              0         \n",
            "_________________________________________________________________\n",
            "dense_11 (Dense)             (None, 1)                 1025      \n",
            "=================================================================\n",
            "Total params: 22,960,681\n",
            "Trainable params: 8,887,585\n",
            "Non-trainable params: 14,073,096\n",
            "_________________________________________________________________\n"
          ],
          "name": "stdout"
        }
      ]
    },
    {
      "cell_type": "code",
      "metadata": {
        "id": "kafUHqeAM0Vr"
      },
      "source": [
        "# Continue training model\n",
        "history = model.fit(train_generator,\n",
        "                    validation_data = validation_generator,\n",
        "                    epochs = 15,\n",
        "                    callbacks = callbacks)"
      ],
      "execution_count": null,
      "outputs": []
    },
    {
      "cell_type": "code",
      "metadata": {
        "id": "vLwg16bWu5JO"
      },
      "source": [
        "model.save(\"/content/drive/MyDrive/model\")"
      ],
      "execution_count": null,
      "outputs": []
    },
    {
      "cell_type": "code",
      "metadata": {
        "id": "Xr9VLfb-ZnBk"
      },
      "source": [
        "# Train model: InceptionV3 model\n",
        "history = model.fit(train_generator,\n",
        "                    validation_data = validation_generator,\n",
        "                    epochs = 10,\n",
        "                    callbacks = callbacks)"
      ],
      "execution_count": null,
      "outputs": []
    },
    {
      "cell_type": "code",
      "metadata": {
        "id": "IjTyq5NmgpPh"
      },
      "source": [
        "# Plot\n",
        "def plot_history(history, metric):\n",
        "  mae = history.history['mae_months']\n",
        "  val_mae = history.history['val_mae_months']\n",
        "  loss = history.history['loss']\n",
        "  val_loss = history.history['val_loss']\n",
        "\n",
        "  epochs = range(len(acc))\n",
        "\n",
        "  plt.plot(epochs, mae, 'bo', label='Training MAE')\n",
        "  plt.plot(epochs, val_mae, 'r', label='Validation MAE')\n",
        "  plt.title('Training and validation MAE')\n",
        "  plt.legend()\n",
        "\n",
        "  plt.figure()\n",
        "\n",
        "  plt.plot(epochs, loss, 'bo', label='Training loss')\n",
        "  plt.plot(epochs, val_loss, 'r', label='Validation loss')\n",
        "  plt.title('Training and validation loss')\n",
        "  plt.legend()\n",
        "\n",
        "  plt.show()"
      ],
      "execution_count": null,
      "outputs": []
    },
    {
      "cell_type": "code",
      "metadata": {
        "id": "2bMw27OywZKs"
      },
      "source": [
        "# Train model - FEMALE\n",
        "history_female = model_female.fit(female_train_generator,\n",
        "                    validation_data = female_validation_generator,\n",
        "                    epochs = 10,\n",
        "                    callbacks = callbacks)"
      ],
      "execution_count": null,
      "outputs": []
    },
    {
      "cell_type": "markdown",
      "metadata": {
        "id": "w7rw5eKfWZRL"
      },
      "source": [
        "## Transfer Learning + Attention Model"
      ]
    },
    {
      "cell_type": "code",
      "metadata": {
        "id": "f3TQk6tqiPJH"
      },
      "source": [
        "from keras.applications.xception import Xception as PTModel\n",
        "from tensorflow.keras import Sequential, models, layers\n",
        "from keras.layers import GlobalAveragePooling2D, Dense, Dropout, Flatten, Input, Conv2D, multiply, LocallyConnected2D,\\\n",
        "Lambda, ActivityRegularization, BatchNormalization, AvgPool2D, MaxPool2D\n",
        "from keras.models import Model\n",
        "\n",
        "base_pretrained_model = PTModel(input_shape = (256, 256, 3), include_top = False, weights = 'imagenet')\n",
        "base_pretrained_model.trainable = False\n",
        "\n",
        "pt_features = Input(base_pretrained_model.layers[-1].get_output_shape_at(0)[1:], name = 'feature_input')\n",
        "pt_depth = base_pretrained_model.layers[-1].get_output_shape_at(0)[-1]\n",
        "bn_features = BatchNormalization()(pt_features)"
      ],
      "execution_count": null,
      "outputs": []
    },
    {
      "cell_type": "code",
      "metadata": {
        "id": "ehQDaVdbtJtt",
        "cellView": "form"
      },
      "source": [
        "#@title\n",
        "# Attention mechanism to turn pixels in the GAP on an off\n",
        "attn_layer = Conv2D(128, kernel_size = (1,1), padding = 'same', activation = 'relu')(bn_features)\n",
        "attn_layer = Conv2D(32, kernel_size = (1,1), padding = 'same', activation = 'relu')(attn_layer)\n",
        "attn_layer = Conv2D(16, kernel_size = (1,1), padding = 'same', activation = 'relu')(attn_layer)\n",
        "attn_layer = MaxPool2D((2,2), strides = (1,1), padding = 'same')(attn_layer)\n",
        "attn_layer = Conv2D(1, \n",
        "                    kernel_size = (1,1), \n",
        "                    padding = 'valid', \n",
        "                    activation = 'sigmoid')(attn_layer)\n",
        "\n",
        "# Branch it to all channels\n",
        "up_c2_w = np.ones((1, 1, 1, pt_depth))\n",
        "up_c2 = Conv2D(pt_depth, kernel_size = (1,1), padding = 'same', \n",
        "                activation = 'linear', use_bias = False, weights = [up_c2_w])\n",
        "up_c2.trainable = False\n",
        "attn_layer = up_c2(attn_layer)\n",
        "mask_features = multiply([attn_layer, bn_features])\n",
        "gap_features = GlobalAveragePooling2D()(mask_features)\n",
        "gap_mask = GlobalAveragePooling2D()(attn_layer)\n",
        "\n",
        "# To account for missing values from the attention model\n",
        "gap = Lambda(lambda x: x[0]/x[1], name = 'RescaleGAP')([gap_features, gap_mask])\n",
        "gap_dr = Dropout(0.5)(gap)\n",
        "dr_steps = Dropout(0.25)(Dense(128, activation = 'elu')(gap_dr))\n",
        "out_layer = Dense(1, activation = 'linear')(dr_steps)\n",
        "attn_model = Model(inputs = [pt_features], outputs = [out_layer], name = 'attention_model')\n",
        "attn_model.compile(optimizer = 'adam', loss = 'mse', metrics = [mae_months])    \n",
        "print('Summary of Attention model only: ')\n",
        "print(attn_model.summary())"
      ],
      "execution_count": null,
      "outputs": []
    },
    {
      "cell_type": "code",
      "metadata": {
        "id": "hR-QMIatfILW"
      },
      "source": [
        "attn_layer = Conv2D(64, kernel_size = (1,1), padding = 'same', activation = 'relu')(bn_features)\n",
        "attn_layer = Conv2D(16, kernel_size = (1,1), padding = 'same', activation = 'relu')(attn_layer)\n",
        "attn_layer = LocallyConnected2D(1, \n",
        "                                kernel_size = (1,1), \n",
        "                                padding = 'valid', \n",
        "                                activation = 'tanh')(attn_layer)\n",
        "\n",
        "# Fan it out to all of the channels\n",
        "up_c2_w = np.ones((1, 1, 1, pt_depth))\n",
        "up_c2 = Conv2D(pt_depth, kernel_size = (1,1), padding = 'same', \n",
        "               activation = 'linear', use_bias = False, weights = [up_c2_w])\n",
        "up_c2.trainable = False\n",
        "attn_layer = up_c2(attn_layer)\n",
        "\n",
        "mask_features = multiply([attn_layer, bn_features])\n",
        "gap_features = GlobalAveragePooling2D()(mask_features)\n",
        "gap_mask = GlobalAveragePooling2D()(attn_layer)\n",
        "\n",
        "# To account for missing values from the attention model\n",
        "gap = Lambda(lambda x: x[0]/x[1], name = 'RescaleGAP')([gap_features, gap_mask])\n",
        "gap_dr = Dropout(0.5)(gap)\n",
        "dr_steps = Dropout(0.25)(Dense(1000, activation = 'tanh')(gap_dr))\n",
        "out_layer = Dense(1, activation = 'linear')(dr_steps)\n",
        "boneage_model = Model(inputs = [pt_features], outputs = [out_layer])\n",
        "boneage_model.compile(optimizer = 'adam', loss = 'mse', metrics = [mae_months])    \n",
        "print('Summary of Attention model only: ')\n",
        "print(boneage_model.summary())"
      ],
      "execution_count": null,
      "outputs": []
    },
    {
      "cell_type": "code",
      "metadata": {
        "id": "J78N9PKDuKpN"
      },
      "source": [
        "# Combined model\n",
        "model_combined = Sequential()\n",
        "model_combined.add(base_pretrained_model)\n",
        "model_combined.add(boneage_model)\n",
        "model_combined.compile(optimizer = 'adam', loss = 'mse', metrics = [mae_months])\n",
        "print(\"Summary of final model: \")\n",
        "print(model_combined.summary())"
      ],
      "execution_count": null,
      "outputs": []
    },
    {
      "cell_type": "code",
      "metadata": {
        "id": "Zq3H0ZOHuHTZ"
      },
      "source": [
        "# Combined model with re-training\n",
        "history_combined = model_combined.fit(train_generator,\n",
        "                    validation_data = validation_generator,\n",
        "                    epochs = 15,\n",
        "                    callbacks = callbacks)"
      ],
      "execution_count": null,
      "outputs": []
    },
    {
      "cell_type": "code",
      "metadata": {
        "id": "HgPIrQlWjVD4"
      },
      "source": [
        "# Male only\n",
        "history_combined_male = model_combined.fit(male_train_generator,\n",
        "                    validation_data = male_validation_generator,\n",
        "                    epochs = 15,\n",
        "                    callbacks = callbacks)"
      ],
      "execution_count": null,
      "outputs": []
    },
    {
      "cell_type": "code",
      "metadata": {
        "id": "-DGfIK-pjW1J"
      },
      "source": [
        "# Female only\n",
        "history_combined_female = model_combined.fit(female_train_generator,\n",
        "                    validation_data = female_validation_generator,\n",
        "                    epochs = 15,\n",
        "                    callbacks = callbacks)"
      ],
      "execution_count": null,
      "outputs": []
    },
    {
      "cell_type": "markdown",
      "metadata": {
        "id": "3iS1WGOr1Fkg"
      },
      "source": [
        "### Look at attention map"
      ]
    },
    {
      "cell_type": "code",
      "metadata": {
        "id": "jrsofJjp1EbJ"
      },
      "source": [
        "for attn_layer in model_combined.layers:\n",
        "    c_shape = attn_layer.get_output_shape_at(0)\n",
        "    if len(c_shape) == 4:\n",
        "        if c_shape[-1] == 1:\n",
        "            print(attn_layer)\n",
        "            break"
      ],
      "execution_count": null,
      "outputs": []
    },
    {
      "cell_type": "code",
      "metadata": {
        "id": "ySW9MUDp1K_a"
      },
      "source": [
        "import keras.backend as K\n",
        "\n",
        "rand_idx = np.random.choice(range(len(test_X)), size = 6)\n",
        "attn_func = K.function(inputs = [bone_age_model.get_input_at(0), K.learning_phase()],\n",
        "           outputs = [attn_layer.get_output_at(0)]\n",
        "          )\n",
        "fig, m_axs = plt.subplots(len(rand_idx), 2, figsize = (8, 4*len(rand_idx)))\n",
        "[c_ax.axis('off') for c_ax in m_axs.flatten()]\n",
        "for c_idx, (img_ax, attn_ax) in zip(rand_idx, m_axs):\n",
        "    cur_img = test_X[c_idx:(c_idx+1)]\n",
        "    attn_img = attn_func([cur_img, 0])[0]\n",
        "    img_ax.imshow(cur_img[0,:,:,0], cmap = 'bone')\n",
        "    attn_ax.imshow(attn_img[0, :, :, 0], cmap = 'viridis', \n",
        "                   vmin = 0, vmax = 1, \n",
        "                   interpolation = 'lanczos')\n",
        "    real_age = boneage_div*test_Y[c_idx]+boneage_mean\n",
        "    img_ax.set_title('Hand Image\\nAge:%2.2fY' % (real_age/12))\n",
        "    pred_age = boneage_div*bone_age_model.predict(cur_img)+boneage_mean\n",
        "    attn_ax.set_title('Attention Map\\nPred:%2.2fY' % (pred_age/12))\n",
        "\n",
        "# fig.savefig('attention_map.png', dpi = 300)"
      ],
      "execution_count": null,
      "outputs": []
    },
    {
      "cell_type": "markdown",
      "metadata": {
        "id": "UDSZ97ZEV5sC"
      },
      "source": [
        "# Predictions"
      ]
    },
    {
      "cell_type": "code",
      "metadata": {
        "id": "uXbmbAgPYZxt"
      },
      "source": [
        "# Load model\n",
        "import tensorflow as tf\n",
        "import keras\n",
        "from keras import models\n",
        "\n",
        "saved_model = tf.keras.models.load_model('model_dense.h5', custom_objects={'mae_months': mae_months})"
      ],
      "execution_count": null,
      "outputs": []
    },
    {
      "cell_type": "code",
      "metadata": {
        "id": "W-UwSDZcTL66"
      },
      "source": [
        "from keras.preprocessing.image import ImageDataGenerator\n",
        "from keras.applications.xception import preprocess_input\n",
        "\n",
        "img_size = 256\n",
        "\n",
        "test_datagen = ImageDataGenerator(preprocessing_function=preprocess_input,\n",
        "                                  width_shift_range=0.25,\n",
        "                                  height_shift_range=0.25,\n",
        "                                  horizontal_flip=True)"
      ],
      "execution_count": null,
      "outputs": []
    },
    {
      "cell_type": "code",
      "metadata": {
        "id": "BacqGPyJV9DR"
      },
      "source": [
        "test_X, test_Y = next(test_datagen.flow_from_dataframe( \n",
        "                            df_val, \n",
        "                            directory = '/content/boneage-validation-dataset-1/',\n",
        "                            x_col = 'filename',\n",
        "                            y_col = 'boneage', \n",
        "                            target_size = (img_size, img_size),\n",
        "                            # batch_size = 2523,\n",
        "                            class_mode = 'raw'\n",
        "                            ))"
      ],
      "execution_count": null,
      "outputs": []
    },
    {
      "cell_type": "code",
      "metadata": {
        "id": "v3touDNfVSbi"
      },
      "source": [
        "# Make predictions\n",
        "pred = boneage_mean + boneage_std*(model.predict(test_X, batch_size = 32, verbose = True))\n",
        "# test_months = boneage_mean + boneage_std*(test_Y)\n",
        "test_months = test_Y\n",
        "\n",
        "ord_ind = np.argsort(test_Y)\n",
        "ord_ind = ord_ind[np.linspace(0, len(ord_ind)-1, 8).astype(int)] # take 8 evenly spaced ones\n",
        "fig, axs = plt.subplots(4, 2, figsize = (15, 30))\n",
        "for (ind, ax) in zip(ord_ind, axs.flatten()):\n",
        "    ax.imshow(test_X[ind, :,:,0], cmap = 'bone')\n",
        "    ax.set_title('Age: %fY\\nPredicted Age: %fY' % (test_months[ind]/12.0, \n",
        "                                                           pred[ind]/12.0))\n",
        "    ax.axis('off')\n",
        "# fig.savefig('trained_image_predictions.png', dpi = 300)"
      ],
      "execution_count": null,
      "outputs": []
    }
  ]
}