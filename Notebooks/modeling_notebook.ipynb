{
  "nbformat": 4,
  "nbformat_minor": 0,
  "metadata": {
    "colab": {
      "name": "modeling_notebook.ipynb",
      "provenance": [],
      "collapsed_sections": []
    },
    "kernelspec": {
      "name": "python3",
      "display_name": "Python 3"
    }
  },
  "cells": [
    {
      "cell_type": "code",
      "metadata": {
        "id": "7G1f17IMjPFu"
      },
      "source": [
        "import tensorflow as tf\n",
        "from keras.models import Model\n",
        "from keras_preprocessing.image import ImageDataGenerator\n",
        "from keras.layers import Dense, Dropout, BatchNormalization\n",
        "from keras.layers import Input, Conv2D, multiply, LocallyConnected2D, Lambda, Flatten, concatenate\n",
        "from keras.layers import GlobalAveragePooling2D, AveragePooling2D, MaxPooling2D\n",
        "from keras.callbacks import ModelCheckpoint, EarlyStopping, ReduceLROnPlateau\n",
        "from keras import optimizers\n",
        "from keras.metrics import mean_absolute_error\n",
        "from keras.applications import Xception\n",
        "import pandas as pd\n",
        "import numpy as np\n",
        "from sklearn.model_selection import train_test_split\n",
        "import os\n",
        "import matplotlib.pyplot as plt\n",
        "import seaborn as sns"
      ],
      "execution_count": null,
      "outputs": []
    },
    {
      "cell_type": "code",
      "metadata": {
        "id": "-0gRzqWzQgYO"
      },
      "source": [
        "# Import modules\n",
        "import preprocessing.py\n",
        "import modeling.py"
      ],
      "execution_count": null,
      "outputs": []
    },
    {
      "cell_type": "markdown",
      "metadata": {
        "id": "DandhtffrSCx"
      },
      "source": [
        "# Prepare for Modeling"
      ]
    },
    {
      "cell_type": "code",
      "metadata": {
        "id": "v6g7dpLaSFXM"
      },
      "source": [
        "# Directories of images/data\n",
        "train_path = '/content/boneage-training-dataset/boneage-training-dataset/'\n",
        "val_path = '/content/drive/MyDrive/boneage_images/boneage-validation-dataset/'\n",
        "test_path = '/content/boneage-test-dataset/boneage-test-dataset/'"
      ],
      "execution_count": null,
      "outputs": []
    },
    {
      "cell_type": "code",
      "metadata": {
        "id": "UNsDYoPM9oaK"
      },
      "source": [
        "# Load data\n",
        "## All data\n",
        "df_train, df_val, df_test = prep_dfs()\n",
        "\n",
        "## Sex-specific data\n",
        "df_train_male, df_val_male, df_test_male, df_train_female, df_val_female, df_test_female = prep_sex_dfs()"
      ],
      "execution_count": null,
      "outputs": []
    },
    {
      "cell_type": "code",
      "metadata": {
        "id": "OcpFZ9QGBuB5"
      },
      "source": [
        "# Calculate mean & standard deviation of bone ages for data, including subsets\n",
        "\n",
        "## All data\n",
        "boneage_mean, boneage_std = boneage_mean_std(df_train, df_val)\n",
        "\n",
        "## Male\n",
        "male_boneage_mean, male_boneage_std = male_boneage_mean_std(df_train_male, df_val_male)\n",
        "\n",
        "## Female\n",
        "female_boneage_mean, female_boneage_std = female_boneage_mean_std(df_train_female, df_val_female)"
      ],
      "execution_count": null,
      "outputs": []
    },
    {
      "cell_type": "code",
      "metadata": {
        "id": "XVXmLp93c8Wd"
      },
      "source": [
        "# Define parameters for models\n",
        "pixels = 299\n",
        "img_size = (pixels, pixels)\n",
        "img_dims = (pixels, pixels, 3)\n",
        "batch_size_train = 64\n",
        "batch_size_val = 256\n",
        "batch_size_test = len(df_test)\n",
        "seed = 42\n",
        "step_size_train = len(df_train) // batch_size_train\n",
        "step_size_val = len(df_val) // batch_size_val"
      ],
      "execution_count": null,
      "outputs": []
    },
    {
      "cell_type": "markdown",
      "metadata": {
        "id": "3JKsN3N1Rnc1"
      },
      "source": [
        "Here, I will also test models with data that is resampled to create equal age distributions."
      ]
    },
    {
      "cell_type": "code",
      "metadata": {
        "id": "UKYuGJSfdoAk",
        "colab": {
          "base_uri": "https://localhost:8080/",
          "height": 349
        },
        "outputId": "3508b6a7-b2ea-46ff-bb19-5d92b7164e4a"
      },
      "source": [
        "# Group bone age into categories for resampling\n",
        "df_train['boneage_category'] = pd.cut(df_train['boneage'], 10)\n",
        "train_df = df_train.groupby(['boneage_category', 'gender2']).apply(lambda x: x.sample(500, replace=True)).reset_index(drop=True)\n",
        "val_df = df_val\n",
        "\n",
        "fig, ax = plt.subplots()\n",
        "ax = sns.distplot(train_df['boneage'], bins=10)\n",
        "ax.set(xlabel='Boneage (months)', ylabel='Density', title='Boneage training distribution');"
      ],
      "execution_count": null,
      "outputs": [
        {
          "output_type": "stream",
          "text": [
            "/usr/local/lib/python3.6/dist-packages/seaborn/distributions.py:2551: FutureWarning: `distplot` is a deprecated function and will be removed in a future version. Please adapt your code to use either `displot` (a figure-level function with similar flexibility) or `histplot` (an axes-level function for histograms).\n",
            "  warnings.warn(msg, FutureWarning)\n"
          ],
          "name": "stderr"
        },
        {
          "output_type": "display_data",
          "data": {
            "image/png": "[encoded data removed]",
            "text/plain": [
              "<Figure size 432x288 with 1 Axes>"
            ]
          },
          "metadata": {
            "tags": [],
            "needs_background": "light"
          }
        }
      ]
    },
    {
      "cell_type": "code",
      "metadata": {
        "id": "aErkqx8bz9eO"
      },
      "source": [
        "# Calculate custom metrics\n",
        "mae_months = mae_months(y_true, y_pred, boneage_mean, boneage_std)\n",
        "mae_months_male = mae_months(y_true, y_pred, male_boneage_mean, male_boneage_std)\n",
        "mae_months_female = mae_months(y_true, y_pred, female_boneage_mean, female_boneage_std)"
      ],
      "execution_count": null,
      "outputs": []
    },
    {
      "cell_type": "markdown",
      "metadata": {
        "id": "VZH39q3VrjIt"
      },
      "source": [
        "## Image Preprocessing"
      ]
    },
    {
      "cell_type": "code",
      "metadata": {
        "id": "VWdJO144R6c_"
      },
      "source": [
        "# Enhance contrast of images and save images\n",
        "enhance_img(train_path, train_path, df_train)"
      ],
      "execution_count": null,
      "outputs": []
    },
    {
      "cell_type": "markdown",
      "metadata": {
        "id": "aaehgydhSmuc"
      },
      "source": [
        "### Data Augmentation"
      ]
    },
    {
      "cell_type": "code",
      "metadata": {
        "id": "Of_uJwLYiSD8"
      },
      "source": [
        "# Instantiate generators\n",
        "train_idg = idg(\n",
        "    horizontal_flip = True,\n",
        "    vertical_flip = False,\n",
        "    height_shift_range = 0.2,\n",
        "    width_shift_range = 0.2,\n",
        "    rotation_range = 20,\n",
        "    shear_range = 0.2,\n",
        "    fill_mode = 'nearest',\n",
        "    zoom_range = 0.2\n",
        "    )\n",
        "\n",
        "test_idg = idg()\n",
        "\n",
        "# Generate inputs for images (single input, all data)\n",
        "train_img_inputs = gen_img_inputs(train_idg, df_train, train_path, batch_size_train, True, img_size)\n",
        "val_img_inputs = gen_img_inputs(test_idg, df_val, val_path, batch_size_val, False, img_size)\n",
        "test_img_inputs = gen_img_inputs(test_idg, df_test, test_path, batch_size_test, False, img_size)\n",
        "\n",
        "# Generate inputs for images (single input, sex-specific data)\n",
        "male_train_img_inputs = gen_img_inputs(train_idg, df_train_male, train_path, batch_size_train, True, img_size)\n",
        "male_val_img_inputs = gen_img_inputs(test_idg, df_val_male, val_path, batch_size_val, False, img_size)\n",
        "male_test_img_inputs = gen_img_inputs(test_idg, df_test_male, test_path, batch_size_test, False, img_size)\n",
        "\n",
        "female_train_img_inputs = gen_img_inputs(train_idg, df_train_female, train_path, batch_size_train, True, img_size)\n",
        "female_val_img_inputs = gen_img_inputs(test_idg, df_val_female, val_path, batch_size_val, False, img_size)\n",
        "female_test_img_inputs = gen_img_inputs(test_idg, df_test_female, test_path, batch_size_test, False, img_size)\n",
        "\n",
        "# Generate inputs for images & sex variables (two inputs)\n",
        "train_img_sex_inputs = gen_img_sex_inputs(train_idg, df_train, train_path, batch_size_train, True, img_size)\n",
        "val_img_sex_inputs = gen_img_sex_inputs(test_idg, df_val, val_path, batch_size_val, False, img_size)\n",
        "test_img_sex_inputs = gen_img_sex_inputs(test_idg, df_test, test_path, batch_size_test, False, img_size)"
      ],
      "execution_count": null,
      "outputs": []
    },
    {
      "cell_type": "markdown",
      "metadata": {
        "id": "lXABZ_ZX2A7C"
      },
      "source": [
        "# Modeling"
      ]
    },
    {
      "cell_type": "code",
      "metadata": {
        "id": "m1wC0oiIWCva"
      },
      "source": [
        "# Instantiate optimizer\n",
        "optim = optimizer(lr=0.001, beta_1=0.9, beta_2=0.999, decay=0)"
      ],
      "execution_count": null,
      "outputs": []
    },
    {
      "cell_type": "code",
      "metadata": {
        "id": "K1EgMNznWbTu"
      },
      "source": [
        "# Instantiate callbacks\n",
        "callbacks = callbacks(factor=0.8, patience=5, min_lr=1e-6)"
      ],
      "execution_count": null,
      "outputs": []
    },
    {
      "cell_type": "markdown",
      "metadata": {
        "id": "I8SBlLE7U43Z"
      },
      "source": [
        "## Model 1: Baseline Model\n",
        "#### Convolutional base (pre-trained CNN (Xception)) with fully connected layers"
      ]
    },
    {
      "cell_type": "code",
      "metadata": {
        "id": "uSyVIQXjU4Xl"
      },
      "source": [
        "# Build & compile model\n",
        "baseline_model = baseline_model(img_dims, tanh, optim, [mae_months])\n",
        "baseline_model.summary()"
      ],
      "execution_count": null,
      "outputs": []
    },
    {
      "cell_type": "code",
      "metadata": {
        "id": "UwDS2PEkWzPa"
      },
      "source": [
        "# Train model with convolutional base frozen initially\n",
        "baseline_history1 = baseline_model.fit(\n",
        "    train_img_inputs,\n",
        "    steps_per_epoch = step_size_train,\n",
        "    validation_data = val_img_inputs,\n",
        "    validation_steps = step_size_val,\n",
        "    epochs = 5,\n",
        "    callbacks = callbacks\n",
        "    )"
      ],
      "execution_count": null,
      "outputs": []
    },
    {
      "cell_type": "code",
      "metadata": {
        "id": "F6ino69TXPLH"
      },
      "source": [
        "# Fine-tune: unfreeze last 2 convolutional blocks of base model & re-train these layers along with additional networks\n",
        "# Lower learning rate\n",
        "baseline_model = fine_tune(model=baseline_model, lr=0.0001, metric=[mae_months])\n",
        "\n",
        "# Re-train model\n",
        "baseline_history2 = baseline_model.fit(\n",
        "    train_img_inputs,\n",
        "    steps_per_epoch = step_size_train,\n",
        "    validation_data = val_img_inputs,\n",
        "    validation_steps = step_size_val,\n",
        "    epochs = 20,\n",
        "    callbacks = callbacks\n",
        "    )"
      ],
      "execution_count": null,
      "outputs": []
    },
    {
      "cell_type": "code",
      "metadata": {
        "id": "1s0x_TvsW2Le"
      },
      "source": [
        "# Plot training history\n",
        "plot_history(baseline_history2)"
      ],
      "execution_count": null,
      "outputs": []
    },
    {
      "cell_type": "markdown",
      "metadata": {
        "id": "D9AOXrJtjUM5"
      },
      "source": [
        "### Model 1a: Baseline Model for Males Only"
      ]
    },
    {
      "cell_type": "code",
      "metadata": {
        "id": "KHlDCLT0jTrX"
      },
      "source": [
        "# Build & compile model\n",
        "male_model = baseline_model(img_dims, tanh, optim, [mae_months_male])\n",
        "male_model.summary()"
      ],
      "execution_count": null,
      "outputs": []
    },
    {
      "cell_type": "code",
      "metadata": {
        "id": "-wo2AfrQwY2o",
        "colab": {
          "base_uri": "https://localhost:8080/"
        },
        "outputId": "f6a390d3-94ad-4f8c-d797-e0ec097db90d"
      },
      "source": [
        "# Train model - MALE\n",
        "history_male = male_model.fit(\n",
        "    male_train_img_inputs,\n",
        "    validation_data = male_val_img_inputs,\n",
        "    epochs = 10,\n",
        "    callbacks = callbacks\n",
        "    )"
      ],
      "execution_count": null,
      "outputs": [
        {
          "output_type": "stream",
          "text": [
            "Epoch 1/10\n",
            "214/214 [==============================] - 359s 2s/step - loss: 0.8476 - mae_months_male: 27.3654 - val_loss: 0.5362 - val_mae_months_male: 23.4069\n",
            "Epoch 2/10\n",
            "214/214 [==============================] - 360s 2s/step - loss: 0.3109 - mae_months_male: 17.6283 - val_loss: 0.2978 - val_mae_months_male: 18.7142\n",
            "Epoch 3/10\n",
            "214/214 [==============================] - 354s 2s/step - loss: 0.2207 - mae_months_male: 15.0862 - val_loss: 0.1650 - val_mae_months_male: 12.6315\n",
            "Epoch 4/10\n",
            "214/214 [==============================] - 351s 2s/step - loss: 0.1897 - mae_months_male: 14.0427 - val_loss: 0.1802 - val_mae_months_male: 13.4319\n",
            "Epoch 5/10\n",
            "214/214 [==============================] - 356s 2s/step - loss: 0.1605 - mae_months_male: 12.8682 - val_loss: 0.1527 - val_mae_months_male: 12.1179\n",
            "Epoch 6/10\n",
            "214/214 [==============================] - 349s 2s/step - loss: 0.1587 - mae_months_male: 12.8175 - val_loss: 0.1307 - val_mae_months_male: 11.4361\n",
            "Epoch 7/10\n",
            "214/214 [==============================] - 352s 2s/step - loss: 0.1400 - mae_months_male: 12.0844 - val_loss: 0.1560 - val_mae_months_male: 12.2358\n",
            "Epoch 8/10\n",
            "214/214 [==============================] - 357s 2s/step - loss: 0.1341 - mae_months_male: 11.7550 - val_loss: 0.1302 - val_mae_months_male: 11.1790\n",
            "Epoch 9/10\n",
            "214/214 [==============================] - 352s 2s/step - loss: 0.1231 - mae_months_male: 11.4534 - val_loss: 0.1606 - val_mae_months_male: 12.2774\n",
            "Epoch 10/10\n",
            "214/214 [==============================] - 354s 2s/step - loss: 0.1195 - mae_months_male: 11.2867 - val_loss: 0.1715 - val_mae_months_male: 11.8974\n"
          ],
          "name": "stdout"
        }
      ]
    },
    {
      "cell_type": "code",
      "metadata": {
        "colab": {
          "base_uri": "https://localhost:8080/",
          "height": 647
        },
        "id": "x0AcSeSH8FIr",
        "outputId": "ca3a575b-993e-4f8f-e853-1ac108e86262"
      },
      "source": [
        "plot_history(history_male)"
      ],
      "execution_count": null,
      "outputs": [
        {
          "output_type": "execute_result",
          "data": {
            "text/plain": [
              "[<matplotlib.lines.Line2D at 0x7f58f95684e0>]"
            ]
          },
          "metadata": {
            "tags": []
          },
          "execution_count": 36
        },
        {
          "output_type": "execute_result",
          "data": {
            "text/plain": [
              "[<matplotlib.lines.Line2D at 0x7f58f954e518>]"
            ]
          },
          "metadata": {
            "tags": []
          },
          "execution_count": 36
        },
        {
          "output_type": "execute_result",
          "data": {
            "text/plain": [
              "Text(0.5, 1.0, 'Training and validation MAE')"
            ]
          },
          "metadata": {
            "tags": []
          },
          "execution_count": 36
        },
        {
          "output_type": "execute_result",
          "data": {
            "text/plain": [
              "<matplotlib.legend.Legend at 0x7f58f9568a58>"
            ]
          },
          "metadata": {
            "tags": []
          },
          "execution_count": 36
        },
        {
          "output_type": "execute_result",
          "data": {
            "text/plain": [
              "<Figure size 432x288 with 0 Axes>"
            ]
          },
          "metadata": {
            "tags": []
          },
          "execution_count": 36
        },
        {
          "output_type": "execute_result",
          "data": {
            "text/plain": [
              "[<matplotlib.lines.Line2D at 0x7f58f94c1400>]"
            ]
          },
          "metadata": {
            "tags": []
          },
          "execution_count": 36
        },
        {
          "output_type": "execute_result",
          "data": {
            "text/plain": [
              "[<matplotlib.lines.Line2D at 0x7f58f9585dd8>]"
            ]
          },
          "metadata": {
            "tags": []
          },
          "execution_count": 36
        },
        {
          "output_type": "execute_result",
          "data": {
            "text/plain": [
              "Text(0.5, 1.0, 'Training and validation loss')"
            ]
          },
          "metadata": {
            "tags": []
          },
          "execution_count": 36
        },
        {
          "output_type": "execute_result",
          "data": {
            "text/plain": [
              "<matplotlib.legend.Legend at 0x7f58f95b9c88>"
            ]
          },
          "metadata": {
            "tags": []
          },
          "execution_count": 36
        },
        {
          "output_type": "display_data",
          "data": {
            "image/png": "[encoded data removed]",
            "text/plain": [
              "<Figure size 432x288 with 1 Axes>"
            ]
          },
          "metadata": {
            "tags": []
          }
        },
        {
          "output_type": "display_data",
          "data": {
            "image/png": "[encoded data removed]",
            "text/plain": [
              "<Figure size 432x288 with 1 Axes>"
            ]
          },
          "metadata": {
            "tags": []
          }
        }
      ]
    },
    {
      "cell_type": "markdown",
      "metadata": {
        "id": "bsyHWEmfkcra"
      },
      "source": [
        "### Model 1b. Baseline Model for Females Only"
      ]
    },
    {
      "cell_type": "code",
      "metadata": {
        "id": "W3ksjwoFkb68"
      },
      "source": [
        "# Build & compile model\n",
        "male_model = baseline_model(img_dims, tanh, optim, [mae_months_male])\n",
        "male_model.summary()"
      ],
      "execution_count": null,
      "outputs": []
    },
    {
      "cell_type": "code",
      "metadata": {
        "id": "3qLg0_IAkcJJ"
      },
      "source": [
        "# Train model - MALE\n",
        "history_female = female_model.fit(\n",
        "    female_train_img_inputs,\n",
        "    validation_data = female_val_img_inputs,\n",
        "    epochs = 10,\n",
        "    callbacks = callbacks\n",
        "    )"
      ],
      "execution_count": null,
      "outputs": []
    },
    {
      "cell_type": "code",
      "metadata": {
        "id": "BY4kv1PokcQ3"
      },
      "source": [
        "plot_history(history_female)"
      ],
      "execution_count": null,
      "outputs": []
    },
    {
      "cell_type": "markdown",
      "metadata": {
        "id": "YPmRSowyr4i5"
      },
      "source": [
        "## Model 2: Attention Mechanism\n",
        "#### Convolutional base (pre-trained CNN (Xception)) with attention mechanism and additional fully connected layers"
      ]
    },
    {
      "cell_type": "code",
      "metadata": {
        "id": "kMkYlT9SSDzs"
      },
      "source": [
        "# Build & compile model\n",
        "attn_model = attn_model(img_dims, optim, [mae_months])\n",
        "attn_model.summary()"
      ],
      "execution_count": null,
      "outputs": []
    },
    {
      "cell_type": "code",
      "metadata": {
        "colab": {
          "base_uri": "https://localhost:8080/"
        },
        "id": "D5d_nP9Va8Bv",
        "outputId": "35bf76fd-1d38-46c7-d42b-d7ec796b9b86"
      },
      "source": [
        "# Train model with convolutional base frozen\n",
        "attn_history1 = attn_model.fit(\n",
        "    train_generator,\n",
        "    steps_per_epoch=step_size_train,\n",
        "    validation_data=val_generator,\n",
        "    validation_steps=step_size_val,\n",
        "    epochs=5,\n",
        "    callbacks=callbacks\n",
        "    )"
      ],
      "execution_count": null,
      "outputs": [
        {
          "output_type": "stream",
          "text": [
            "Epoch 1/5\n",
            "197/197 [==============================] - 2436s 12s/step - loss: 0.5612 - mae_months: 23.2615 - val_loss: 0.5654 - val_mae_months: 23.4362\n",
            "Epoch 2/5\n",
            "197/197 [==============================] - 680s 3s/step - loss: 0.4980 - mae_months: 20.6419 - val_loss: 0.4280 - val_mae_months: 17.7415\n",
            "Epoch 3/5\n",
            "197/197 [==============================] - 685s 3s/step - loss: 0.4696 - mae_months: 19.4646 - val_loss: 0.4862 - val_mae_months: 20.1557\n",
            "Epoch 4/5\n",
            "197/197 [==============================] - 712s 4s/step - loss: 0.4639 - mae_months: 19.2286 - val_loss: 0.4047 - val_mae_months: 16.7759\n",
            "Epoch 5/5\n",
            "197/197 [==============================] - 684s 3s/step - loss: 0.4541 - mae_months: 18.8227 - val_loss: 0.3894 - val_mae_months: 16.1412\n"
          ],
          "name": "stdout"
        }
      ]
    },
    {
      "cell_type": "code",
      "metadata": {
        "id": "ZmwnhRllukGx",
        "colab": {
          "base_uri": "https://localhost:8080/"
        },
        "outputId": "5846af40-a369-4fb2-a35f-6b67335d6119"
      },
      "source": [
        "# Fine-tune\n",
        "attn_model = fine_tune(model=attn_model, lr=0.0001, metric=[mae_months])\n",
        "\n",
        "# Re-train model\n",
        "attn_history2 = attn_model.fit(\n",
        "    train_img_inputs,\n",
        "    steps_per_epoch = step_size_train,\n",
        "    validation_data = val_img_inputs,\n",
        "    validation_steps = step_size_val,\n",
        "    epochs = 20,\n",
        "    callbacks = callbacks\n",
        "    )"
      ],
      "execution_count": null,
      "outputs": [
        {
          "output_type": "stream",
          "text": [
            "Epoch 1/20\n",
            "197/197 [==============================] - ETA: 0s - loss: 0.4101 - mae_months: 16.9984Found 1425 validated image filenames.\n",
            "Found 1425 validated image filenames.\n",
            "197/197 [==============================] - 1251s 6s/step - loss: 0.4101 - mae_months: 16.9984 - val_loss: 0.3843 - val_mae_months: 15.9286\n",
            "Epoch 2/20\n",
            "197/197 [==============================] - 1239s 6s/step - loss: 0.3606 - mae_months: 14.9458 - val_loss: 0.3824 - val_mae_months: 15.8525\n",
            "Epoch 3/20\n",
            "197/197 [==============================] - 1249s 6s/step - loss: 0.3462 - mae_months: 14.3486 - val_loss: 0.3308 - val_mae_months: 13.7115\n",
            "Epoch 4/20\n",
            "197/197 [==============================] - 1252s 6s/step - loss: 0.3335 - mae_months: 13.8246 - val_loss: 0.2999 - val_mae_months: 12.4322\n",
            "Epoch 5/20\n",
            "197/197 [==============================] - 1290s 7s/step - loss: 0.3250 - mae_months: 13.4720 - val_loss: 0.4091 - val_mae_months: 16.9569\n",
            "Epoch 6/20\n",
            "197/197 [==============================] - 1333s 7s/step - loss: 0.3152 - mae_months: 13.0651 - val_loss: 0.2807 - val_mae_months: 11.6367\n",
            "Epoch 7/20\n",
            "197/197 [==============================] - 1346s 7s/step - loss: 0.3107 - mae_months: 12.8811 - val_loss: 0.3143 - val_mae_months: 13.0264\n",
            "Epoch 8/20\n",
            "197/197 [==============================] - 1348s 7s/step - loss: 0.3036 - mae_months: 12.5855 - val_loss: 0.3098 - val_mae_months: 12.8406\n",
            "Epoch 9/20\n",
            "197/197 [==============================] - 1335s 7s/step - loss: 0.3033 - mae_months: 12.5741 - val_loss: 0.3171 - val_mae_months: 13.1446\n",
            "Epoch 10/20\n",
            "197/197 [==============================] - 1308s 7s/step - loss: 0.2933 - mae_months: 12.1593 - val_loss: 0.2824 - val_mae_months: 11.7080\n",
            "Epoch 11/20\n",
            "197/197 [==============================] - 1297s 7s/step - loss: 0.2925 - mae_months: 12.1257 - val_loss: 0.2802 - val_mae_months: 11.6146\n",
            "Epoch 12/20\n",
            "197/197 [==============================] - 1309s 7s/step - loss: 0.2915 - mae_months: 12.0817 - val_loss: 0.2990 - val_mae_months: 12.3922\n",
            "Epoch 13/20\n",
            "197/197 [==============================] - 1325s 7s/step - loss: 0.2835 - mae_months: 11.7532 - val_loss: 0.2793 - val_mae_months: 11.5768\n",
            "Epoch 14/20\n",
            "197/197 [==============================] - 1311s 7s/step - loss: 0.2838 - mae_months: 11.7622 - val_loss: 0.2762 - val_mae_months: 11.4483\n",
            "Epoch 15/20\n",
            "197/197 [==============================] - 1340s 7s/step - loss: 0.2843 - mae_months: 11.7855 - val_loss: 0.3650 - val_mae_months: 15.1281\n",
            "Epoch 16/20\n",
            "197/197 [==============================] - 1319s 7s/step - loss: 0.2828 - mae_months: 11.7225 - val_loss: 0.2720 - val_mae_months: 11.2741\n",
            "Epoch 17/20\n",
            "197/197 [==============================] - 1300s 7s/step - loss: 0.2791 - mae_months: 11.5678 - val_loss: 0.2649 - val_mae_months: 10.9792\n",
            "Epoch 18/20\n",
            "197/197 [==============================] - 1314s 7s/step - loss: 0.2747 - mae_months: 11.3873 - val_loss: 0.2810 - val_mae_months: 11.6462\n",
            "Epoch 19/20\n",
            "197/197 [==============================] - 1298s 7s/step - loss: 0.2738 - mae_months: 11.3480 - val_loss: 0.3748 - val_mae_months: 15.5376\n",
            "Epoch 20/20\n",
            "197/197 [==============================] - 1308s 7s/step - loss: 0.2748 - mae_months: 11.3906 - val_loss: 0.2627 - val_mae_months: 10.8878\n"
          ],
          "name": "stdout"
        }
      ]
    },
    {
      "cell_type": "code",
      "metadata": {
        "colab": {
          "base_uri": "https://localhost:8080/",
          "height": 647
        },
        "id": "d0FUL-eCTyU6",
        "outputId": "b1558f25-a4ab-42b8-8458-dd534e2c3c11"
      },
      "source": [
        "plot_history(attn_history2)"
      ],
      "execution_count": null,
      "outputs": [
        {
          "output_type": "execute_result",
          "data": {
            "text/plain": [
              "[<matplotlib.lines.Line2D at 0x7f2b13610d30>]"
            ]
          },
          "metadata": {
            "tags": []
          },
          "execution_count": 56
        },
        {
          "output_type": "execute_result",
          "data": {
            "text/plain": [
              "[<matplotlib.lines.Line2D at 0x7f2b14e8b4e0>]"
            ]
          },
          "metadata": {
            "tags": []
          },
          "execution_count": 56
        },
        {
          "output_type": "execute_result",
          "data": {
            "text/plain": [
              "Text(0.5, 1.0, 'Training and validation MAE')"
            ]
          },
          "metadata": {
            "tags": []
          },
          "execution_count": 56
        },
        {
          "output_type": "execute_result",
          "data": {
            "text/plain": [
              "<matplotlib.legend.Legend at 0x7f2b1361f668>"
            ]
          },
          "metadata": {
            "tags": []
          },
          "execution_count": 56
        },
        {
          "output_type": "execute_result",
          "data": {
            "text/plain": [
              "<Figure size 432x288 with 0 Axes>"
            ]
          },
          "metadata": {
            "tags": []
          },
          "execution_count": 56
        },
        {
          "output_type": "execute_result",
          "data": {
            "text/plain": [
              "[<matplotlib.lines.Line2D at 0x7f2b1359a780>]"
            ]
          },
          "metadata": {
            "tags": []
          },
          "execution_count": 56
        },
        {
          "output_type": "execute_result",
          "data": {
            "text/plain": [
              "[<matplotlib.lines.Line2D at 0x7f2b13605e80>]"
            ]
          },
          "metadata": {
            "tags": []
          },
          "execution_count": 56
        },
        {
          "output_type": "execute_result",
          "data": {
            "text/plain": [
              "Text(0.5, 1.0, 'Training and validation loss')"
            ]
          },
          "metadata": {
            "tags": []
          },
          "execution_count": 56
        },
        {
          "output_type": "execute_result",
          "data": {
            "text/plain": [
              "<matplotlib.legend.Legend at 0x7f2b1359add8>"
            ]
          },
          "metadata": {
            "tags": []
          },
          "execution_count": 56
        },
        {
          "output_type": "display_data",
          "data": {
            "image/png": "[encoded data removed]",
            "text/plain": [
              "<Figure size 432x288 with 1 Axes>"
            ]
          },
          "metadata": {
            "tags": [],
            "needs_background": "light"
          }
        },
        {
          "output_type": "display_data",
          "data": {
            "image/png": "[encoded data removed]",
            "text/plain": [
              "<Figure size 432x288 with 1 Axes>"
            ]
          },
          "metadata": {
            "tags": [],
            "needs_background": "light"
          }
        }
      ]
    },
    {
      "cell_type": "markdown",
      "metadata": {
        "id": "azVUYE8Kbw8M"
      },
      "source": [
        "## Model 3: Sex as Feature"
      ]
    },
    {
      "cell_type": "code",
      "metadata": {
        "id": "OK1ZfEHkcqlx"
      },
      "source": [
        "# Build & compile model\n",
        "sex_model = sex_model(img_dims, optim, [mae_months])\n",
        "sex_model.summary()"
      ],
      "execution_count": null,
      "outputs": []
    },
    {
      "cell_type": "code",
      "metadata": {
        "id": "Blyqqc1HeagW"
      },
      "source": [
        "# Train model with convolutional base frozen\n",
        "sex_history1 = sex_model.fit(\n",
        "    train_img_sex_inputs,\n",
        "    steps_per_epoch = step_size_train,\n",
        "    validation_data = val_img_sex_inputs,\n",
        "    validation_steps = step_size_val,\n",
        "    epochs = 5,\n",
        "    callbacks = callbacks\n",
        "    )"
      ],
      "execution_count": null,
      "outputs": []
    },
    {
      "cell_type": "code",
      "metadata": {
        "id": "WL7iVuyeeauc"
      },
      "source": [
        "# Fine-tune\n",
        "sex_model = fine_tune(model=sex_model, lr=0.0001, metric=[mae_months])\n",
        "\n",
        "# Re-train model\n",
        "sex_history2 = sex_model.fit(\n",
        "    train_img_sex_inputs,\n",
        "    steps_per_epoch = step_size_train,\n",
        "    validation_data = val_img_sex_inputs,\n",
        "    validation_steps = step_size_val,\n",
        "    epochs = 20,\n",
        "    callbacks = callbacks\n",
        "    )"
      ],
      "execution_count": null,
      "outputs": []
    },
    {
      "cell_type": "code",
      "metadata": {
        "id": "WQdVXBcDea7y"
      },
      "source": [
        "# Plot training history\n",
        "plot_history(sex_history2)"
      ],
      "execution_count": null,
      "outputs": []
    },
    {
      "cell_type": "markdown",
      "metadata": {
        "id": "yLVQwUdatAuD"
      },
      "source": [
        "## Model 4: Attention Mechanism, Sex as Feature"
      ]
    },
    {
      "cell_type": "code",
      "metadata": {
        "id": "nnwnB60icnsa"
      },
      "source": [
        "# Build & compile model\n",
        "attn_sex_model = attn_sex_model(img_dims, optim, [mae_months])\n",
        "attn_sex_model.summary()"
      ],
      "execution_count": null,
      "outputs": []
    },
    {
      "cell_type": "code",
      "metadata": {
        "id": "RzfO3osFcNUU"
      },
      "source": [
        "# Train model with convolutional base frozen\n",
        "attn_sex_history1 = attn_sex_model.fit(\n",
        "    train_img_sex_inputs,\n",
        "    steps_per_epoch = step_size_train,\n",
        "    validation_data = val_img_sex_inputs,\n",
        "    validation_steps = step_size_val,\n",
        "    epochs = 5,\n",
        "    callbacks = callbacks\n",
        "    )"
      ],
      "execution_count": null,
      "outputs": []
    },
    {
      "cell_type": "code",
      "metadata": {
        "id": "cdy4CepkcNdo"
      },
      "source": [
        "# Fine-tune\n",
        "attn_model = fine_tune(model=attn_sex_model, lr=0.0001, metric=[mae_months])\n",
        "\n",
        "# Re-train model\n",
        "attn_sex_history2 = attn_sex_model.fit(\n",
        "    train_img_sex_inputs,\n",
        "    steps_per_epoch = step_size_train,\n",
        "    validation_data = val_img_sex_inputs,\n",
        "    validation_steps = step_size_val,\n",
        "    epochs = 20,\n",
        "    callbacks = callbacks\n",
        "    )"
      ],
      "execution_count": null,
      "outputs": []
    },
    {
      "cell_type": "code",
      "metadata": {
        "id": "wgYhTZ5kSCqi"
      },
      "source": [
        "# Plot training history\n",
        "plot_history(attn_sex_history2)"
      ],
      "execution_count": null,
      "outputs": []
    }
  ]
}